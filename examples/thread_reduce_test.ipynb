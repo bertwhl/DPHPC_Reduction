{
 "cells": [
  {
   "cell_type": "code",
   "execution_count": 1,
   "id": "fd7d6e1f",
   "metadata": {},
   "outputs": [
    {
     "data": {
      "text/html": [
       "<link href=\"https://fonts.googleapis.com/icon?family=Material+Icons\" rel=\"stylesheet\">\n",
       "        <script>\n",
       "        require.config({\n",
       "            paths: {\n",
       "                \"math\": \"https://spcl.github.io/dace/webclient/external_lib/math.min\"\n",
       "            },\n",
       "            waitSeconds: 40\n",
       "          });\n",
       "        require( [\"math\"], x => window.math = x);\n",
       "        </script><script src=\"https://spcl.github.io/dace/webclient/renderer_dir/dagre.js\"></script>\n",
       "<script src=\"https://spcl.github.io/dace/webclient/renderer_dir/global_vars.js\"></script>\n",
       "<script src=\"https://spcl.github.io/dace/webclient/context_menu.js\"></script>\n",
       "<script src=\"https://spcl.github.io/dace/webclient/renderer_elements.js\"></script>\n",
       "<script src=\"https://spcl.github.io/dace/webclient/sdfg_utils.js\"></script>\n",
       "<script src=\"https://spcl.github.io/dace/webclient/overlay_manager.js\"></script>\n",
       "<script src=\"https://spcl.github.io/dace/webclient/renderer.js\"></script>\n",
       "<link href=\"https://spcl.github.io/dace/webclient/sdfv.css\" rel=\"stylesheet\">\n"
      ],
      "text/plain": [
       "<IPython.core.display.HTML object>"
      ]
     },
     "metadata": {},
     "output_type": "display_data"
    }
   ],
   "source": [
    "import dace\n",
    "import numpy as np\n",
    "from dace.transformation.interstate import GPUTransformSDFG\n",
    "from dace.frontend.common import op_repository as oprepo\n"
   ]
  },
  {
   "cell_type": "markdown",
   "id": "e4a11e4a",
   "metadata": {},
   "source": [
    "## 4096x2 -> 4096x1 using 4 blocks with method THREAD REDUCE"
   ]
  },
  {
   "cell_type": "code",
   "execution_count": null,
   "id": "9f715fd6",
   "metadata": {},
   "outputs": [],
   "source": [
    "@dace.program\n",
    "def test1(inputs: dace.float64[4096, 2]):\n",
    "    outputs = dace.ndarray([4096], dtype=dace.float64)\n",
    "    outputs[:] = 0\n",
    "    for blockIdx_x in dace.map[0:4]:\n",
    "        for threadIdx_x in dace.map[0:1024]:\n",
    "            value = dace.float64(0)\n",
    "            for i in dace.map[0:2]:\n",
    "                value += inputs[blockIdx_x*1024+threadIdx_x,i]\n",
    "            \n",
    "            outputs[blockIdx_x*1024+threadIdx_x] = value\n",
    "            \n",
    "    return outputs\n",
    "\n",
    "# Transform to GPU, keep thread-block map\n",
    "sdfg = test1.to_sdfg()\n",
    "sdfg.apply_transformations(GPUTransformSDFG, {'sequential_innermaps': False})\n",
    "\n",
    "# Test\n",
    "a = np.random.rand(4096, 2)\n",
    "b = sdfg(a)\n",
    "c = np.sum(a, axis=1)\n",
    "assert np.allclose(b, c)"
   ]
  },
  {
   "cell_type": "code",
   "execution_count": 59,
   "id": "2a1968a6",
   "metadata": {},
   "outputs": [],
   "source": []
  },
  {
   "cell_type": "code",
   "execution_count": 70,
   "id": "24646adc",
   "metadata": {},
   "outputs": [],
   "source": []
  },
  {
   "cell_type": "code",
   "execution_count": 72,
   "id": "5844623a",
   "metadata": {},
   "outputs": [],
   "source": [
    "H = dace.symbol('H')\n",
    "W = dace.symbol('W')\n",
    "\n",
    "@dace.program\n",
    "def thread_reduce(inputs: dace.float64[H, W], gridDim_x: dace.int64, blockDim_x: dace.int64):\n",
    "    outputs = dace.ndarray([H], dtype=dace.float64)\n",
    "    outputs[:] = 0\n",
    "    for blockIdx_x in dace.map[0:gridDim_x]:\n",
    "        newDim = blockDim_x\n",
    "        for threadIdx_x in dace.map[0:blockDim_x]:\n",
    "            value = dace.float64(0)\n",
    "            for i in dace.map[0:W]:\n",
    "                value += inputs[blockIdx_x*newDim+threadIdx_x,i]\n",
    "            \n",
    "            outputs[blockIdx_x*newDim+threadIdx_x] = value\n",
    "            \n",
    "    return outputs\n",
    "\n",
    "# Transform to GPU, keep thread-block map\n",
    "sdfg = thread_reduce.to_sdfg()\n",
    "sdfg.apply_transformations(GPUTransformSDFG, {'sequential_innermaps': False})\n",
    "\n",
    "\n",
    "# Test\n",
    "a = np.random.rand(4096, 2)\n",
    "b = sdfg(H=4096,W=2,inputs=a,gridDim_x=8,blockDim_x=512)\n",
    "c = np.sum(a, axis=1)\n",
    "assert np.allclose(b, c)"
   ]
  },
  {
   "cell_type": "code",
   "execution_count": null,
   "id": "a2a42ef1",
   "metadata": {},
   "outputs": [],
   "source": []
  }
 ],
 "metadata": {
  "kernelspec": {
   "display_name": "Python 3",
   "language": "python",
   "name": "python3"
  },
  "language_info": {
   "codemirror_mode": {
    "name": "ipython",
    "version": 3
   },
   "file_extension": ".py",
   "mimetype": "text/x-python",
   "name": "python",
   "nbconvert_exporter": "python",
   "pygments_lexer": "ipython3",
   "version": "3.8.8"
  }
 },
 "nbformat": 4,
 "nbformat_minor": 5
}
