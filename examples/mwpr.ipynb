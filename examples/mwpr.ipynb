{
 "cells": [
  {
   "cell_type": "markdown",
   "metadata": {},
   "source": [
    "# Multiple Wraps per Row"
   ]
  },
  {
   "cell_type": "code",
   "execution_count": 4,
   "metadata": {},
   "outputs": [],
   "source": [
    "import dace\n",
    "import numpy as np\n",
    "from dace.transformation.interstate import GPUTransformSDFG, StateFusion\n",
    "from dace.frontend.common import op_repository as oprepo"
   ]
  },
  {
   "cell_type": "code",
   "execution_count": 5,
   "metadata": {},
   "outputs": [],
   "source": [
    "@oprepo.replaces('warpReduce_sum')\n",
    "def warpReduce_sum(pv, sdfg: dace.SDFG, state: dace.SDFGState, x: str) -> str:\n",
    "   desc = sdfg.arrays[x]\n",
    "   newname, _ = sdfg.add_temp_transient(desc.shape, desc.dtype, desc.storage)\n",
    "   ctype = desc.dtype.ctype\n",
    "\n",
    "   t = state.add_tasklet(\n",
    "       'warpReduce', {'__a'}, {'__out'}, f'''\n",
    "       __out = dace::warpReduce<dace::ReductionType::Sum, {ctype}>::reduce(__a);\n",
    "   ''', dace.Language.CPP)\n",
    "   r = state.add_read(x)\n",
    "   w = state.add_write(newname)\n",
    "   state.add_edge(r, None, t, '__a', dace.Memlet(data=x))\n",
    "   state.add_edge(t, '__out', w, None, dace.Memlet(data=newname))\n",
    "   return newname"
   ]
  },
  {
   "cell_type": "markdown",
   "metadata": {},
   "source": [
    "### define size"
   ]
  },
  {
   "cell_type": "code",
   "execution_count": 6,
   "metadata": {},
   "outputs": [],
   "source": [
    "H = dace.symbol('H')\n",
    "W = dace.symbol('W')"
   ]
  },
  {
   "cell_type": "markdown",
   "metadata": {},
   "source": [
    "### 120x640 -> 120x1 using 120 blocks, 20 warps each block, one block for one row "
   ]
  },
  {
   "cell_type": "code",
   "execution_count": 7,
   "metadata": {},
   "outputs": [],
   "source": [
    "@dace.program\n",
    "def AB_MWPR_1(inputs: dace.float64[H, W], wn: dace.int64):\n",
    "    outputs = dace.ndarray([H], dtype=dace.float64)\n",
    "    outputs[:] = 0\n",
    "    for block_id in dace.map[0:H]:\n",
    "        for warp_id, thread_id in dace.map[0:wn, 0:32]:\n",
    "            col = warp_id*32+thread_id\n",
    "            reduced = warpReduce_sum(inputs[block_id, col])\n",
    "            if thread_id == 0:\n",
    "                outputs[block_id] += reduced\n",
    "    return outputs"
   ]
  },
  {
   "cell_type": "code",
   "execution_count": 8,
   "metadata": {},
   "outputs": [],
   "source": [
    "sdfg1 = AB_MWPR_1.to_sdfg()\n",
    "sdfg1.apply_transformations(GPUTransformSDFG, {'sequential_innermaps': False})\n",
    "\n",
    "h, w = 120, 640\n",
    "a1 = np.random.rand(h, w)\n",
    "warp_num = w // 32\n",
    "b1 = sdfg1(H = h, W = w, inputs = a1, wn = warp_num)\n",
    "c1 = np.sum(a1, axis=1)\n",
    "assert np.allclose(b1, c1)"
   ]
  },
  {
   "cell_type": "code",
   "execution_count": 15,
   "metadata": {},
   "outputs": [],
   "source": [
    "@dace.program\n",
    "def AB_MWPR_LOOP_1(inputs: dace.float64[H, W], ln: dace.int64):\n",
    "    outputs = dace.ndarray([H], dtype=dace.float64)\n",
    "    outputs[:] = 0\n",
    "    for block_id in dace.map[0:H]:\n",
    "        shared = dace.ndarray([32,32], dtype=dace.float64, storage=dace.StorageType.GPU_Shared)\n",
    "        for warp_id, thread_id in dace.map[0:32, 0:32]:\n",
    "            value = dace.float64(0)\n",
    "            for i in dace.map[0:ln]:\n",
    "                col = i * 1024 + warp_id * 32 + thread_id\n",
    "                value += inputs[block_id, col]\n",
    "            shared[warp_id, thread_id] = value\n",
    "        for warp_id, thread_id in dace.map[0:32, 0:32]:\n",
    "            reduced = warpReduce_sum(shared[warp_id, thread_id])\n",
    "            if thread_id == 0:\n",
    "                outputs[block_id] += reduced\n",
    "    return outputs"
   ]
  },
  {
   "cell_type": "code",
   "execution_count": 16,
   "metadata": {},
   "outputs": [
    {
     "ename": "KeyError",
     "evalue": "'inputs'",
     "output_type": "error",
     "traceback": [
      "\u001b[0;31m---------------------------------------------------------------------------\u001b[0m",
      "\u001b[0;31mKeyError\u001b[0m                                  Traceback (most recent call last)",
      "\u001b[0;32m/tmp/ipykernel_22484/4292029822.py\u001b[0m in \u001b[0;36m<module>\u001b[0;34m\u001b[0m\n\u001b[0;32m----> 1\u001b[0;31m \u001b[0msdfg\u001b[0m \u001b[0;34m=\u001b[0m \u001b[0mAB_MWPR_LOOP_1\u001b[0m\u001b[0;34m.\u001b[0m\u001b[0mto_sdfg\u001b[0m\u001b[0;34m(\u001b[0m\u001b[0;34m)\u001b[0m\u001b[0;34m\u001b[0m\u001b[0;34m\u001b[0m\u001b[0m\n\u001b[0m\u001b[1;32m      2\u001b[0m \u001b[0msdfg\u001b[0m\u001b[0;34m.\u001b[0m\u001b[0mapply_transformations\u001b[0m\u001b[0;34m(\u001b[0m\u001b[0mGPUTransformSDFG\u001b[0m\u001b[0;34m,\u001b[0m \u001b[0;34m{\u001b[0m\u001b[0;34m'sequential_innermaps'\u001b[0m\u001b[0;34m:\u001b[0m \u001b[0;32mFalse\u001b[0m\u001b[0;34m}\u001b[0m\u001b[0;34m)\u001b[0m\u001b[0;34m\u001b[0m\u001b[0;34m\u001b[0m\u001b[0m\n\u001b[1;32m      3\u001b[0m \u001b[0;34m\u001b[0m\u001b[0m\n\u001b[1;32m      4\u001b[0m \u001b[0mh\u001b[0m\u001b[0;34m,\u001b[0m \u001b[0mw\u001b[0m \u001b[0;34m=\u001b[0m \u001b[0;36m120\u001b[0m\u001b[0;34m,\u001b[0m \u001b[0;36m4096\u001b[0m\u001b[0;34m\u001b[0m\u001b[0;34m\u001b[0m\u001b[0m\n\u001b[1;32m      5\u001b[0m \u001b[0mloop_num\u001b[0m \u001b[0;34m=\u001b[0m \u001b[0mw\u001b[0m \u001b[0;34m//\u001b[0m \u001b[0;36m1024\u001b[0m\u001b[0;34m\u001b[0m\u001b[0;34m\u001b[0m\u001b[0m\n",
      "\u001b[0;32m~/anaconda3/envs/dace/lib/python3.8/site-packages/dace/frontend/python/parser.py\u001b[0m in \u001b[0;36mto_sdfg\u001b[0;34m(self, strict, save, validate, *args, **kwargs)\u001b[0m\n\u001b[1;32m    209\u001b[0m                 **kwargs) -> SDFG:\n\u001b[1;32m    210\u001b[0m         \u001b[0;34m\"\"\" Parses the DaCe function into an SDFG. \"\"\"\u001b[0m\u001b[0;34m\u001b[0m\u001b[0;34m\u001b[0m\u001b[0m\n\u001b[0;32m--> 211\u001b[0;31m         return self._parse(args,\n\u001b[0m\u001b[1;32m    212\u001b[0m                            \u001b[0mkwargs\u001b[0m\u001b[0;34m,\u001b[0m\u001b[0;34m\u001b[0m\u001b[0;34m\u001b[0m\u001b[0m\n\u001b[1;32m    213\u001b[0m                            \u001b[0mstrict\u001b[0m\u001b[0;34m=\u001b[0m\u001b[0mstrict\u001b[0m\u001b[0;34m,\u001b[0m\u001b[0;34m\u001b[0m\u001b[0;34m\u001b[0m\u001b[0m\n",
      "\u001b[0;32m~/anaconda3/envs/dace/lib/python3.8/site-packages/dace/frontend/python/parser.py\u001b[0m in \u001b[0;36m_parse\u001b[0;34m(self, args, kwargs, strict, save, validate)\u001b[0m\n\u001b[1;32m    434\u001b[0m \u001b[0;34m\u001b[0m\u001b[0m\n\u001b[1;32m    435\u001b[0m         \u001b[0;31m# Obtain DaCe program as SDFG\u001b[0m\u001b[0;34m\u001b[0m\u001b[0;34m\u001b[0m\u001b[0;34m\u001b[0m\u001b[0m\n\u001b[0;32m--> 436\u001b[0;31m         \u001b[0msdfg\u001b[0m\u001b[0;34m,\u001b[0m \u001b[0mcached\u001b[0m \u001b[0;34m=\u001b[0m \u001b[0mself\u001b[0m\u001b[0;34m.\u001b[0m\u001b[0m_generate_pdp\u001b[0m\u001b[0;34m(\u001b[0m\u001b[0margs\u001b[0m\u001b[0;34m,\u001b[0m \u001b[0mkwargs\u001b[0m\u001b[0;34m,\u001b[0m \u001b[0mstrict\u001b[0m\u001b[0;34m=\u001b[0m\u001b[0mstrict\u001b[0m\u001b[0;34m)\u001b[0m\u001b[0;34m\u001b[0m\u001b[0;34m\u001b[0m\u001b[0m\n\u001b[0m\u001b[1;32m    437\u001b[0m \u001b[0;34m\u001b[0m\u001b[0m\n\u001b[1;32m    438\u001b[0m         \u001b[0;31m# Apply strict transformations automatically\u001b[0m\u001b[0;34m\u001b[0m\u001b[0;34m\u001b[0m\u001b[0;34m\u001b[0m\u001b[0m\n",
      "\u001b[0;32m~/anaconda3/envs/dace/lib/python3.8/site-packages/dace/frontend/python/parser.py\u001b[0m in \u001b[0;36m_generate_pdp\u001b[0;34m(self, args, kwargs, strict)\u001b[0m\n\u001b[1;32m    770\u001b[0m         \u001b[0;32melse\u001b[0m\u001b[0;34m:\u001b[0m\u001b[0;34m\u001b[0m\u001b[0;34m\u001b[0m\u001b[0m\n\u001b[1;32m    771\u001b[0m             \u001b[0mcached\u001b[0m \u001b[0;34m=\u001b[0m \u001b[0;32mFalse\u001b[0m\u001b[0;34m\u001b[0m\u001b[0;34m\u001b[0m\u001b[0m\n\u001b[0;32m--> 772\u001b[0;31m             sdfg = newast.parse_dace_program(self.name,\n\u001b[0m\u001b[1;32m    773\u001b[0m                                              \u001b[0mparsed_ast\u001b[0m\u001b[0;34m,\u001b[0m\u001b[0;34m\u001b[0m\u001b[0;34m\u001b[0m\u001b[0m\n\u001b[1;32m    774\u001b[0m                                              \u001b[0margtypes\u001b[0m\u001b[0;34m,\u001b[0m\u001b[0;34m\u001b[0m\u001b[0;34m\u001b[0m\u001b[0m\n",
      "\u001b[0;32m~/anaconda3/envs/dace/lib/python3.8/site-packages/dace/frontend/python/newast.py\u001b[0m in \u001b[0;36mparse_dace_program\u001b[0;34m(name, preprocessed_ast, argtypes, constants, closure, strict, save)\u001b[0m\n\u001b[1;32m    167\u001b[0m                              strict=strict)\n\u001b[1;32m    168\u001b[0m \u001b[0;34m\u001b[0m\u001b[0m\n\u001b[0;32m--> 169\u001b[0;31m     sdfg, _, _, _ = visitor.parse_program(\n\u001b[0m\u001b[1;32m    170\u001b[0m         preprocessed_ast.preprocessed_ast.body[0])\n\u001b[1;32m    171\u001b[0m     \u001b[0msdfg\u001b[0m\u001b[0;34m.\u001b[0m\u001b[0mset_sourcecode\u001b[0m\u001b[0;34m(\u001b[0m\u001b[0mpreprocessed_ast\u001b[0m\u001b[0;34m.\u001b[0m\u001b[0msrc\u001b[0m\u001b[0;34m,\u001b[0m \u001b[0;34m'python'\u001b[0m\u001b[0;34m)\u001b[0m\u001b[0;34m\u001b[0m\u001b[0;34m\u001b[0m\u001b[0m\n",
      "\u001b[0;32m~/anaconda3/envs/dace/lib/python3.8/site-packages/dace/frontend/python/newast.py\u001b[0m in \u001b[0;36mparse_program\u001b[0;34m(self, program, is_tasklet)\u001b[0m\n\u001b[1;32m   1136\u001b[0m         \u001b[0;32melse\u001b[0m\u001b[0;34m:\u001b[0m\u001b[0;34m\u001b[0m\u001b[0;34m\u001b[0m\u001b[0m\n\u001b[1;32m   1137\u001b[0m             \u001b[0;32mfor\u001b[0m \u001b[0mstmt\u001b[0m \u001b[0;32min\u001b[0m \u001b[0mprogram\u001b[0m\u001b[0;34m.\u001b[0m\u001b[0mbody\u001b[0m\u001b[0;34m:\u001b[0m\u001b[0;34m\u001b[0m\u001b[0;34m\u001b[0m\u001b[0m\n\u001b[0;32m-> 1138\u001b[0;31m                 \u001b[0mself\u001b[0m\u001b[0;34m.\u001b[0m\u001b[0mvisit_TopLevel\u001b[0m\u001b[0;34m(\u001b[0m\u001b[0mstmt\u001b[0m\u001b[0;34m)\u001b[0m\u001b[0;34m\u001b[0m\u001b[0;34m\u001b[0m\u001b[0m\n\u001b[0m\u001b[1;32m   1139\u001b[0m         \u001b[0;32mif\u001b[0m \u001b[0mlen\u001b[0m\u001b[0;34m(\u001b[0m\u001b[0mself\u001b[0m\u001b[0;34m.\u001b[0m\u001b[0msdfg\u001b[0m\u001b[0;34m.\u001b[0m\u001b[0mnodes\u001b[0m\u001b[0;34m(\u001b[0m\u001b[0;34m)\u001b[0m\u001b[0;34m)\u001b[0m \u001b[0;34m==\u001b[0m \u001b[0;36m0\u001b[0m\u001b[0;34m:\u001b[0m\u001b[0;34m\u001b[0m\u001b[0;34m\u001b[0m\u001b[0m\n\u001b[1;32m   1140\u001b[0m             \u001b[0mself\u001b[0m\u001b[0;34m.\u001b[0m\u001b[0msdfg\u001b[0m\u001b[0;34m.\u001b[0m\u001b[0madd_state\u001b[0m\u001b[0;34m(\u001b[0m\u001b[0;34m\"EmptyState\"\u001b[0m\u001b[0;34m)\u001b[0m\u001b[0;34m\u001b[0m\u001b[0;34m\u001b[0m\u001b[0m\n",
      "\u001b[0;32m~/anaconda3/envs/dace/lib/python3.8/site-packages/dace/frontend/python/astutils.py\u001b[0m in \u001b[0;36mvisit_TopLevel\u001b[0;34m(self, node)\u001b[0m\n\u001b[1;32m    383\u001b[0m             \u001b[0mgetattr\u001b[0m\u001b[0;34m(\u001b[0m\u001b[0mself\u001b[0m\u001b[0;34m,\u001b[0m \u001b[0;34m\"visit_TopLevel\"\u001b[0m \u001b[0;34m+\u001b[0m \u001b[0mclsname\u001b[0m\u001b[0;34m)\u001b[0m\u001b[0;34m(\u001b[0m\u001b[0mnode\u001b[0m\u001b[0;34m)\u001b[0m\u001b[0;34m\u001b[0m\u001b[0;34m\u001b[0m\u001b[0m\n\u001b[1;32m    384\u001b[0m         \u001b[0;32melse\u001b[0m\u001b[0;34m:\u001b[0m\u001b[0;34m\u001b[0m\u001b[0;34m\u001b[0m\u001b[0m\n\u001b[0;32m--> 385\u001b[0;31m             \u001b[0mself\u001b[0m\u001b[0;34m.\u001b[0m\u001b[0mvisit\u001b[0m\u001b[0;34m(\u001b[0m\u001b[0mnode\u001b[0m\u001b[0;34m)\u001b[0m\u001b[0;34m\u001b[0m\u001b[0;34m\u001b[0m\u001b[0m\n\u001b[0m\u001b[1;32m    386\u001b[0m \u001b[0;34m\u001b[0m\u001b[0m\n\u001b[1;32m    387\u001b[0m     \u001b[0;32mdef\u001b[0m \u001b[0mgeneric_visit\u001b[0m\u001b[0;34m(\u001b[0m\u001b[0mself\u001b[0m\u001b[0;34m,\u001b[0m \u001b[0mnode\u001b[0m\u001b[0;34m)\u001b[0m\u001b[0;34m:\u001b[0m\u001b[0;34m\u001b[0m\u001b[0;34m\u001b[0m\u001b[0m\n",
      "\u001b[0;32m~/anaconda3/envs/dace/lib/python3.8/site-packages/dace/frontend/python/newast.py\u001b[0m in \u001b[0;36mvisit\u001b[0;34m(self, node)\u001b[0m\n\u001b[1;32m   1116\u001b[0m                                                      \u001b[0mnode\u001b[0m\u001b[0;34m.\u001b[0m\u001b[0mcol_offset\u001b[0m\u001b[0;34m,\u001b[0m\u001b[0;34m\u001b[0m\u001b[0;34m\u001b[0m\u001b[0m\n\u001b[1;32m   1117\u001b[0m                                                      self.filename)\n\u001b[0;32m-> 1118\u001b[0;31m         \u001b[0;32mreturn\u001b[0m \u001b[0msuper\u001b[0m\u001b[0;34m(\u001b[0m\u001b[0;34m)\u001b[0m\u001b[0;34m.\u001b[0m\u001b[0mvisit\u001b[0m\u001b[0;34m(\u001b[0m\u001b[0mnode\u001b[0m\u001b[0;34m)\u001b[0m\u001b[0;34m\u001b[0m\u001b[0;34m\u001b[0m\u001b[0m\n\u001b[0m\u001b[1;32m   1119\u001b[0m \u001b[0;34m\u001b[0m\u001b[0m\n\u001b[1;32m   1120\u001b[0m     \u001b[0;32mdef\u001b[0m \u001b[0mparse_program\u001b[0m\u001b[0;34m(\u001b[0m\u001b[0mself\u001b[0m\u001b[0;34m,\u001b[0m \u001b[0mprogram\u001b[0m\u001b[0;34m:\u001b[0m \u001b[0mast\u001b[0m\u001b[0;34m.\u001b[0m\u001b[0mFunctionDef\u001b[0m\u001b[0;34m,\u001b[0m \u001b[0mis_tasklet\u001b[0m\u001b[0;34m:\u001b[0m \u001b[0mbool\u001b[0m \u001b[0;34m=\u001b[0m \u001b[0;32mFalse\u001b[0m\u001b[0;34m)\u001b[0m\u001b[0;34m:\u001b[0m\u001b[0;34m\u001b[0m\u001b[0;34m\u001b[0m\u001b[0m\n",
      "\u001b[0;32m~/anaconda3/envs/dace/lib/python3.8/ast.py\u001b[0m in \u001b[0;36mvisit\u001b[0;34m(self, node)\u001b[0m\n\u001b[1;32m    369\u001b[0m         \u001b[0mmethod\u001b[0m \u001b[0;34m=\u001b[0m \u001b[0;34m'visit_'\u001b[0m \u001b[0;34m+\u001b[0m \u001b[0mnode\u001b[0m\u001b[0;34m.\u001b[0m\u001b[0m__class__\u001b[0m\u001b[0;34m.\u001b[0m\u001b[0m__name__\u001b[0m\u001b[0;34m\u001b[0m\u001b[0;34m\u001b[0m\u001b[0m\n\u001b[1;32m    370\u001b[0m         \u001b[0mvisitor\u001b[0m \u001b[0;34m=\u001b[0m \u001b[0mgetattr\u001b[0m\u001b[0;34m(\u001b[0m\u001b[0mself\u001b[0m\u001b[0;34m,\u001b[0m \u001b[0mmethod\u001b[0m\u001b[0;34m,\u001b[0m \u001b[0mself\u001b[0m\u001b[0;34m.\u001b[0m\u001b[0mgeneric_visit\u001b[0m\u001b[0;34m)\u001b[0m\u001b[0;34m\u001b[0m\u001b[0;34m\u001b[0m\u001b[0m\n\u001b[0;32m--> 371\u001b[0;31m         \u001b[0;32mreturn\u001b[0m \u001b[0mvisitor\u001b[0m\u001b[0;34m(\u001b[0m\u001b[0mnode\u001b[0m\u001b[0;34m)\u001b[0m\u001b[0;34m\u001b[0m\u001b[0;34m\u001b[0m\u001b[0m\n\u001b[0m\u001b[1;32m    372\u001b[0m \u001b[0;34m\u001b[0m\u001b[0m\n\u001b[1;32m    373\u001b[0m     \u001b[0;32mdef\u001b[0m \u001b[0mgeneric_visit\u001b[0m\u001b[0;34m(\u001b[0m\u001b[0mself\u001b[0m\u001b[0;34m,\u001b[0m \u001b[0mnode\u001b[0m\u001b[0;34m)\u001b[0m\u001b[0;34m:\u001b[0m\u001b[0;34m\u001b[0m\u001b[0;34m\u001b[0m\u001b[0m\n",
      "\u001b[0;32m~/anaconda3/envs/dace/lib/python3.8/site-packages/dace/frontend/python/newast.py\u001b[0m in \u001b[0;36mvisit_For\u001b[0;34m(self, node)\u001b[0m\n\u001b[1;32m   2178\u001b[0m                                    debuginfo=self.current_lineinfo)\n\u001b[1;32m   2179\u001b[0m             \u001b[0;31m# body = SDFG('MapBody')\u001b[0m\u001b[0;34m\u001b[0m\u001b[0;34m\u001b[0m\u001b[0;34m\u001b[0m\u001b[0m\n\u001b[0;32m-> 2180\u001b[0;31m             body, inputs, outputs, symbols = self._parse_subprogram(\n\u001b[0m\u001b[1;32m   2181\u001b[0m                 \u001b[0mself\u001b[0m\u001b[0;34m.\u001b[0m\u001b[0mname\u001b[0m\u001b[0;34m,\u001b[0m\u001b[0;34m\u001b[0m\u001b[0;34m\u001b[0m\u001b[0m\n\u001b[1;32m   2182\u001b[0m                 \u001b[0mnode\u001b[0m\u001b[0;34m,\u001b[0m\u001b[0;34m\u001b[0m\u001b[0;34m\u001b[0m\u001b[0m\n",
      "\u001b[0;32m~/anaconda3/envs/dace/lib/python3.8/site-packages/dace/frontend/python/newast.py\u001b[0m in \u001b[0;36m_parse_subprogram\u001b[0;34m(self, name, node, is_tasklet, extra_symbols, extra_map_symbols)\u001b[0m\n\u001b[1;32m   1346\u001b[0m                             tmp_idx=self.sdfg._temp_transients + 1)\n\u001b[1;32m   1347\u001b[0m \u001b[0;34m\u001b[0m\u001b[0m\n\u001b[0;32m-> 1348\u001b[0;31m         \u001b[0;32mreturn\u001b[0m \u001b[0mpv\u001b[0m\u001b[0;34m.\u001b[0m\u001b[0mparse_program\u001b[0m\u001b[0;34m(\u001b[0m\u001b[0mnode\u001b[0m\u001b[0;34m,\u001b[0m \u001b[0mis_tasklet\u001b[0m\u001b[0;34m)\u001b[0m\u001b[0;34m\u001b[0m\u001b[0;34m\u001b[0m\u001b[0m\n\u001b[0m\u001b[1;32m   1349\u001b[0m \u001b[0;34m\u001b[0m\u001b[0m\n\u001b[1;32m   1350\u001b[0m     def _symbols_from_params(\n",
      "\u001b[0;32m~/anaconda3/envs/dace/lib/python3.8/site-packages/dace/frontend/python/newast.py\u001b[0m in \u001b[0;36mparse_program\u001b[0;34m(self, program, is_tasklet)\u001b[0m\n\u001b[1;32m   1136\u001b[0m         \u001b[0;32melse\u001b[0m\u001b[0;34m:\u001b[0m\u001b[0;34m\u001b[0m\u001b[0;34m\u001b[0m\u001b[0m\n\u001b[1;32m   1137\u001b[0m             \u001b[0;32mfor\u001b[0m \u001b[0mstmt\u001b[0m \u001b[0;32min\u001b[0m \u001b[0mprogram\u001b[0m\u001b[0;34m.\u001b[0m\u001b[0mbody\u001b[0m\u001b[0;34m:\u001b[0m\u001b[0;34m\u001b[0m\u001b[0;34m\u001b[0m\u001b[0m\n\u001b[0;32m-> 1138\u001b[0;31m                 \u001b[0mself\u001b[0m\u001b[0;34m.\u001b[0m\u001b[0mvisit_TopLevel\u001b[0m\u001b[0;34m(\u001b[0m\u001b[0mstmt\u001b[0m\u001b[0;34m)\u001b[0m\u001b[0;34m\u001b[0m\u001b[0;34m\u001b[0m\u001b[0m\n\u001b[0m\u001b[1;32m   1139\u001b[0m         \u001b[0;32mif\u001b[0m \u001b[0mlen\u001b[0m\u001b[0;34m(\u001b[0m\u001b[0mself\u001b[0m\u001b[0;34m.\u001b[0m\u001b[0msdfg\u001b[0m\u001b[0;34m.\u001b[0m\u001b[0mnodes\u001b[0m\u001b[0;34m(\u001b[0m\u001b[0;34m)\u001b[0m\u001b[0;34m)\u001b[0m \u001b[0;34m==\u001b[0m \u001b[0;36m0\u001b[0m\u001b[0;34m:\u001b[0m\u001b[0;34m\u001b[0m\u001b[0;34m\u001b[0m\u001b[0m\n\u001b[1;32m   1140\u001b[0m             \u001b[0mself\u001b[0m\u001b[0;34m.\u001b[0m\u001b[0msdfg\u001b[0m\u001b[0;34m.\u001b[0m\u001b[0madd_state\u001b[0m\u001b[0;34m(\u001b[0m\u001b[0;34m\"EmptyState\"\u001b[0m\u001b[0;34m)\u001b[0m\u001b[0;34m\u001b[0m\u001b[0;34m\u001b[0m\u001b[0m\n",
      "\u001b[0;32m~/anaconda3/envs/dace/lib/python3.8/site-packages/dace/frontend/python/astutils.py\u001b[0m in \u001b[0;36mvisit_TopLevel\u001b[0;34m(self, node)\u001b[0m\n\u001b[1;32m    383\u001b[0m             \u001b[0mgetattr\u001b[0m\u001b[0;34m(\u001b[0m\u001b[0mself\u001b[0m\u001b[0;34m,\u001b[0m \u001b[0;34m\"visit_TopLevel\"\u001b[0m \u001b[0;34m+\u001b[0m \u001b[0mclsname\u001b[0m\u001b[0;34m)\u001b[0m\u001b[0;34m(\u001b[0m\u001b[0mnode\u001b[0m\u001b[0;34m)\u001b[0m\u001b[0;34m\u001b[0m\u001b[0;34m\u001b[0m\u001b[0m\n\u001b[1;32m    384\u001b[0m         \u001b[0;32melse\u001b[0m\u001b[0;34m:\u001b[0m\u001b[0;34m\u001b[0m\u001b[0;34m\u001b[0m\u001b[0m\n\u001b[0;32m--> 385\u001b[0;31m             \u001b[0mself\u001b[0m\u001b[0;34m.\u001b[0m\u001b[0mvisit\u001b[0m\u001b[0;34m(\u001b[0m\u001b[0mnode\u001b[0m\u001b[0;34m)\u001b[0m\u001b[0;34m\u001b[0m\u001b[0;34m\u001b[0m\u001b[0m\n\u001b[0m\u001b[1;32m    386\u001b[0m \u001b[0;34m\u001b[0m\u001b[0m\n\u001b[1;32m    387\u001b[0m     \u001b[0;32mdef\u001b[0m \u001b[0mgeneric_visit\u001b[0m\u001b[0;34m(\u001b[0m\u001b[0mself\u001b[0m\u001b[0;34m,\u001b[0m \u001b[0mnode\u001b[0m\u001b[0;34m)\u001b[0m\u001b[0;34m:\u001b[0m\u001b[0;34m\u001b[0m\u001b[0;34m\u001b[0m\u001b[0m\n",
      "\u001b[0;32m~/anaconda3/envs/dace/lib/python3.8/site-packages/dace/frontend/python/newast.py\u001b[0m in \u001b[0;36mvisit\u001b[0;34m(self, node)\u001b[0m\n\u001b[1;32m   1116\u001b[0m                                                      \u001b[0mnode\u001b[0m\u001b[0;34m.\u001b[0m\u001b[0mcol_offset\u001b[0m\u001b[0;34m,\u001b[0m\u001b[0;34m\u001b[0m\u001b[0;34m\u001b[0m\u001b[0m\n\u001b[1;32m   1117\u001b[0m                                                      self.filename)\n\u001b[0;32m-> 1118\u001b[0;31m         \u001b[0;32mreturn\u001b[0m \u001b[0msuper\u001b[0m\u001b[0;34m(\u001b[0m\u001b[0;34m)\u001b[0m\u001b[0;34m.\u001b[0m\u001b[0mvisit\u001b[0m\u001b[0;34m(\u001b[0m\u001b[0mnode\u001b[0m\u001b[0;34m)\u001b[0m\u001b[0;34m\u001b[0m\u001b[0;34m\u001b[0m\u001b[0m\n\u001b[0m\u001b[1;32m   1119\u001b[0m \u001b[0;34m\u001b[0m\u001b[0m\n\u001b[1;32m   1120\u001b[0m     \u001b[0;32mdef\u001b[0m \u001b[0mparse_program\u001b[0m\u001b[0;34m(\u001b[0m\u001b[0mself\u001b[0m\u001b[0;34m,\u001b[0m \u001b[0mprogram\u001b[0m\u001b[0;34m:\u001b[0m \u001b[0mast\u001b[0m\u001b[0;34m.\u001b[0m\u001b[0mFunctionDef\u001b[0m\u001b[0;34m,\u001b[0m \u001b[0mis_tasklet\u001b[0m\u001b[0;34m:\u001b[0m \u001b[0mbool\u001b[0m \u001b[0;34m=\u001b[0m \u001b[0;32mFalse\u001b[0m\u001b[0;34m)\u001b[0m\u001b[0;34m:\u001b[0m\u001b[0;34m\u001b[0m\u001b[0;34m\u001b[0m\u001b[0m\n",
      "\u001b[0;32m~/anaconda3/envs/dace/lib/python3.8/ast.py\u001b[0m in \u001b[0;36mvisit\u001b[0;34m(self, node)\u001b[0m\n\u001b[1;32m    369\u001b[0m         \u001b[0mmethod\u001b[0m \u001b[0;34m=\u001b[0m \u001b[0;34m'visit_'\u001b[0m \u001b[0;34m+\u001b[0m \u001b[0mnode\u001b[0m\u001b[0;34m.\u001b[0m\u001b[0m__class__\u001b[0m\u001b[0;34m.\u001b[0m\u001b[0m__name__\u001b[0m\u001b[0;34m\u001b[0m\u001b[0;34m\u001b[0m\u001b[0m\n\u001b[1;32m    370\u001b[0m         \u001b[0mvisitor\u001b[0m \u001b[0;34m=\u001b[0m \u001b[0mgetattr\u001b[0m\u001b[0;34m(\u001b[0m\u001b[0mself\u001b[0m\u001b[0;34m,\u001b[0m \u001b[0mmethod\u001b[0m\u001b[0;34m,\u001b[0m \u001b[0mself\u001b[0m\u001b[0;34m.\u001b[0m\u001b[0mgeneric_visit\u001b[0m\u001b[0;34m)\u001b[0m\u001b[0;34m\u001b[0m\u001b[0;34m\u001b[0m\u001b[0m\n\u001b[0;32m--> 371\u001b[0;31m         \u001b[0;32mreturn\u001b[0m \u001b[0mvisitor\u001b[0m\u001b[0;34m(\u001b[0m\u001b[0mnode\u001b[0m\u001b[0;34m)\u001b[0m\u001b[0;34m\u001b[0m\u001b[0;34m\u001b[0m\u001b[0m\n\u001b[0m\u001b[1;32m    372\u001b[0m \u001b[0;34m\u001b[0m\u001b[0m\n\u001b[1;32m    373\u001b[0m     \u001b[0;32mdef\u001b[0m \u001b[0mgeneric_visit\u001b[0m\u001b[0;34m(\u001b[0m\u001b[0mself\u001b[0m\u001b[0;34m,\u001b[0m \u001b[0mnode\u001b[0m\u001b[0;34m)\u001b[0m\u001b[0;34m:\u001b[0m\u001b[0;34m\u001b[0m\u001b[0;34m\u001b[0m\u001b[0m\n",
      "\u001b[0;32m~/anaconda3/envs/dace/lib/python3.8/site-packages/dace/frontend/python/newast.py\u001b[0m in \u001b[0;36mvisit_For\u001b[0;34m(self, node)\u001b[0m\n\u001b[1;32m   2189\u001b[0m                                             debuginfo=self.current_lineinfo)\n\u001b[1;32m   2190\u001b[0m             \u001b[0mself\u001b[0m\u001b[0;34m.\u001b[0m\u001b[0m_add_nested_symbols\u001b[0m\u001b[0;34m(\u001b[0m\u001b[0mtasklet\u001b[0m\u001b[0;34m)\u001b[0m\u001b[0;34m\u001b[0m\u001b[0;34m\u001b[0m\u001b[0m\n\u001b[0;32m-> 2191\u001b[0;31m             self._add_dependencies(state, tasklet, me, mx, inputs, outputs,\n\u001b[0m\u001b[1;32m   2192\u001b[0m                                    map_inputs, symbols)\n\u001b[1;32m   2193\u001b[0m         \u001b[0;32melif\u001b[0m \u001b[0miterator\u001b[0m \u001b[0;34m==\u001b[0m \u001b[0;34m'range'\u001b[0m\u001b[0;34m:\u001b[0m\u001b[0;34m\u001b[0m\u001b[0;34m\u001b[0m\u001b[0m\n",
      "\u001b[0;32m~/anaconda3/envs/dace/lib/python3.8/site-packages/dace/frontend/python/newast.py\u001b[0m in \u001b[0;36m_add_dependencies\u001b[0;34m(self, state, internal_node, entry_node, exit_node, inputs, outputs, map_inputs, symbols)\u001b[0m\n\u001b[1;32m   1898\u001b[0m                         read_node = state.add_read(\n\u001b[1;32m   1899\u001b[0m                             memlet.data, debuginfo=self.current_lineinfo)\n\u001b[0;32m-> 1900\u001b[0;31m                     add_indirection_subgraph(self.sdfg, state, read_node,\n\u001b[0m\u001b[1;32m   1901\u001b[0m                                              internal_node, memlet, conn, self)\n\u001b[1;32m   1902\u001b[0m                     \u001b[0;32mcontinue\u001b[0m\u001b[0;34m\u001b[0m\u001b[0;34m\u001b[0m\u001b[0m\n",
      "\u001b[0;32m~/anaconda3/envs/dace/lib/python3.8/site-packages/dace/frontend/python/newast.py\u001b[0m in \u001b[0;36madd_indirection_subgraph\u001b[0;34m(sdfg, graph, src, dst, memlet, local_name, pvisitor, output, with_wcr)\u001b[0m\n\u001b[1;32m    272\u001b[0m         implements indirection without nested memlet subsets. \"\"\"\n\u001b[1;32m    273\u001b[0m \u001b[0;34m\u001b[0m\u001b[0m\n\u001b[0;32m--> 274\u001b[0;31m     \u001b[0marray\u001b[0m \u001b[0;34m=\u001b[0m \u001b[0msdfg\u001b[0m\u001b[0;34m.\u001b[0m\u001b[0marrays\u001b[0m\u001b[0;34m[\u001b[0m\u001b[0mmemlet\u001b[0m\u001b[0;34m.\u001b[0m\u001b[0mdata\u001b[0m\u001b[0;34m]\u001b[0m\u001b[0;34m\u001b[0m\u001b[0;34m\u001b[0m\u001b[0m\n\u001b[0m\u001b[1;32m    275\u001b[0m     \u001b[0mindirect_inputs\u001b[0m \u001b[0;34m=\u001b[0m \u001b[0mset\u001b[0m\u001b[0;34m(\u001b[0m\u001b[0;34m)\u001b[0m\u001b[0;34m\u001b[0m\u001b[0;34m\u001b[0m\u001b[0m\n\u001b[1;32m    276\u001b[0m     \u001b[0mindirect_outputs\u001b[0m \u001b[0;34m=\u001b[0m \u001b[0mset\u001b[0m\u001b[0;34m(\u001b[0m\u001b[0;34m)\u001b[0m\u001b[0;34m\u001b[0m\u001b[0;34m\u001b[0m\u001b[0m\n",
      "\u001b[0;31mKeyError\u001b[0m: 'inputs'"
     ]
    }
   ],
   "source": [
    "sdfg = AB_MWPR_LOOP_1.to_sdfg()\n",
    "sdfg.apply_transformations(GPUTransformSDFG, {'sequential_innermaps': False})\n",
    "\n",
    "h, w = 120, 4096\n",
    "loop_num = w // 1024\n",
    "\n",
    "a = np.random.rand(h, w)\n",
    "b = sdfg1(H = h, W = w, inputs = a, ln = loop_num)\n",
    "c = np.sum(a1, axis=1)\n",
    "assert np.allclose(b, c)"
   ]
  },
  {
   "cell_type": "code",
   "execution_count": 9,
   "metadata": {},
   "outputs": [],
   "source": [
    "@dace.program\n",
    "def AtomicReduceToGlobalMem(inputs: dace.float64[H, W], \n",
    "#                             num_blocks_per_row: dace.int64, \n",
    "#                             loopNum: dace.int64, \n",
    "                            blockDim_y: dace.int64):\n",
    "    outputs = dace.ndarray([H], dtype=dace.float64)\n",
    "    outputs[:] = 0\n",
    "#     for blockIdx_y, blockIdx_x in dace.map[0:num_blocks_per_row, 0:H]:\n",
    "    for blockIdx_x in dace.map[0:H]:\n",
    "        for warp_id, thread_id in dace.map[0:blockDim_y,0:32]:\n",
    "#             row_id = blockIdx_x\n",
    "#             col_id = 32*blockDim_y*blockIdx_y + 32*warp_id +thread_id\n",
    "#             value = dace.float64(0)\n",
    "#             delta = 32*blockDim_y*num_blocks_per_row\n",
    "#             for loopIdx in dace.map[0:loopNum]:\n",
    "#                 if col_id<W:\n",
    "#                     value += inputs[row_id, col_id]\n",
    "#                 col_id += delta\n",
    "            col_id = warp_id*32+thread_id\n",
    "            reduced = warpReduce_sum(inputs[blockIdx_x, col_id])\n",
    "            if thread_id == 0:\n",
    "                outputs[blockIdx_x] += reduced\n",
    "    return outputs"
   ]
  },
  {
   "cell_type": "code",
   "execution_count": 10,
   "metadata": {},
   "outputs": [],
   "source": [
    "sdfg = AtomicReduceToGlobalMem.to_sdfg()\n",
    "sdfg.apply_transformations(GPUTransformSDFG, {'sequential_innermaps': False})\n",
    "row = 12\n",
    "col = 640\n",
    "num_blocks_per_row = 1\n",
    "loopNum = 1\n",
    "WarpNum = 20\n",
    "test_input = np.random.rand(row, col)\n",
    "test_output = sdfg(H=row, W=col, inputs=test_input, \n",
    "#                    num_blocks_per_row=num_blocks_per_row, loopNum=loopNum, \n",
    "                   blockDim_y=WarpNum)\n",
    "expected_output = np.sum(test_input, axis=1)\n",
    "assert np.allclose(test_output, expected_output)"
   ]
  },
  {
   "cell_type": "markdown",
   "metadata": {},
   "source": [
    "### 40x640 -> 40x1 using 25 blocks, 32 warps each block, 20 wraps for one row"
   ]
  },
  {
   "cell_type": "code",
   "execution_count": 11,
   "metadata": {},
   "outputs": [],
   "source": [
    "@dace.program\n",
    "def AB_MWPR_2(inputs: dace.float64[H, W], bn: dace.int64):\n",
    "    outputs = dace.ndarray([H], dtype=dace.float64)\n",
    "    outputs[:] = 0\n",
    "    for block_id in dace.map[0:bn]:\n",
    "        for warp_id, thread_id in dace.map[0:32, 0:32]:\n",
    "            index = block_id * 1024 + warp_id * 32 + thread_id\n",
    "            index_x = dace.int64(index/640)\n",
    "            index_y = index % 640\n",
    "            value = warpReduce_sum(inputs[index_x, index_y])\n",
    "            if thread_id == 0:\n",
    "                outputs[index_x] += value\n",
    "    return outputs"
   ]
  },
  {
   "cell_type": "code",
   "execution_count": 12,
   "metadata": {},
   "outputs": [],
   "source": [
    "sdfg2 = AB_MWPR_2.to_sdfg()\n",
    "sdfg2.apply_transformations(GPUTransformSDFG, {'sequential_innermaps': False})\n",
    "\n",
    "h, w = 120, 640\n",
    "block_num = h * w // 512\n",
    "\n",
    "a2 = np.random.rand(h, w)\n",
    "b2 = sdfg2(H = h, W = w, inputs = a2, bn = block_num)\n",
    "c2 = np.sum(a2, axis=1)\n",
    "assert np.allclose(b2, c2)"
   ]
  },
  {
   "cell_type": "markdown",
   "metadata": {},
   "source": [
    "### 120x640 -> 120x1 using 15 blocks, 32 warps each block, one block for 8 rows"
   ]
  },
  {
   "cell_type": "code",
   "execution_count": 13,
   "metadata": {},
   "outputs": [],
   "source": [
    "@dace.program\n",
    "def AB_MWPR_3(inputs: dace.float64[H, W], bn: dace.int64, ln: dace.int64, rpb: dace.int64, wpr: dace.int64):\n",
    "    outputs = dace.ndarray([H], dtype=dace.float64)\n",
    "    outputs[:] = 0\n",
    "    for block_id in dace.map[0:bn]:\n",
    "        _rpb = dace.int32(rpb)\n",
    "        _wpr = dace.int32(wpr)\n",
    "        shared = dace.ndarray([32,32], dtype=dace.float64, storage=dace.StorageType.GPU_Shared)\n",
    "        for warp_id_x, warp_id_y, thread_id in dace.map[0:rpb, 0:wpr, 0:32]:\n",
    "            value = dace.float64(0)\n",
    "            for i in dace.map[0:ln]:\n",
    "                value += inputs[block_id * _rpb + warp_id_x \n",
    "                    ,i * _wpr * 32 + warp_id_y * 32 + thread_id]\n",
    "            shared[warp_id_x*wpr+warp_id_y, thread_id] = value\n",
    "        reduced = dace.ndarray([32], dtype=dace.float64, storage=dace.StorageType.GPU_Shared) # should be rpb instead of 32, but stupid dace can't work with variables here...\n",
    "        for warp_id_x, warp_id_y, thread_id in dace.map[0:rpb, 0:wpr, 0:32]:\n",
    "            reduced[warp_id_x] = warpReduce_sum(shared[warp_id_x * wpr + warp_id_y, thread_id])\n",
    "            if thread_id == 0:\n",
    "                outputs[block_id * rpb + warp_id_x] += reduced[warp_id_x]\n",
    "    return outputs"
   ]
  },
  {
   "cell_type": "code",
   "execution_count": 14,
   "metadata": {},
   "outputs": [],
   "source": [
    "sdfg3 = AB_MWPR_3.to_sdfg()\n",
    "sdfg3.apply_transformations(GPUTransformSDFG, {'sequential_innermaps': False})\n",
    "\n",
    "h, w = 120, 640\n",
    "row_per_block = 8\n",
    "warp_per_row = 32 // row_per_block\n",
    "block_num = h // row_per_block\n",
    "loop_num = w * row_per_block // 1024\n",
    "\n",
    "a3 = np.random.rand(h, w)\n",
    "b3 = sdfg3(H = h, W = w, inputs = a3, bn = block_num, ln = loop_num, rpb = row_per_block, wpr = warp_per_row)\n",
    "c3 = np.sum(a3, axis=1)\n",
    "assert np.allclose(b3, c3)"
   ]
  },
  {
   "cell_type": "code",
   "execution_count": null,
   "metadata": {},
   "outputs": [],
   "source": []
  },
  {
   "cell_type": "code",
   "execution_count": null,
   "metadata": {},
   "outputs": [],
   "source": []
  }
 ],
 "metadata": {
  "interpreter": {
   "hash": "b392c89b2e748132e166ebaad61f7326e6f59e1c0abeae75f1ca197830f38773"
  },
  "kernelspec": {
   "display_name": "Python [conda env:dace]",
   "language": "python",
   "name": "python3"
  },
  "language_info": {
   "codemirror_mode": {
    "name": "ipython",
    "version": 3
   },
   "file_extension": ".py",
   "mimetype": "text/x-python",
   "name": "python",
   "nbconvert_exporter": "python",
   "pygments_lexer": "ipython3",
   "version": "3.8.12"
  }
 },
 "nbformat": 4,
 "nbformat_minor": 2
}
