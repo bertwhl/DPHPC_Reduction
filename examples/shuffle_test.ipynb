{
 "cells": [
  {
   "cell_type": "code",
   "execution_count": 1,
   "id": "c878cf32",
   "metadata": {},
   "outputs": [
    {
     "data": {
      "text/html": [
       "<link href=\"https://fonts.googleapis.com/icon?family=Material+Icons\" rel=\"stylesheet\">\n",
       "        <script>\n",
       "        require.config({\n",
       "            paths: {\n",
       "                \"math\": \"https://spcl.github.io/dace/webclient/external_lib/math.min\"\n",
       "            },\n",
       "            waitSeconds: 40\n",
       "          });\n",
       "        require( [\"math\"], x => window.math = x);\n",
       "        </script><script src=\"https://spcl.github.io/dace/webclient/renderer_dir/dagre.js\"></script>\n",
       "<script src=\"https://spcl.github.io/dace/webclient/renderer_dir/global_vars.js\"></script>\n",
       "<script src=\"https://spcl.github.io/dace/webclient/context_menu.js\"></script>\n",
       "<script src=\"https://spcl.github.io/dace/webclient/renderer_elements.js\"></script>\n",
       "<script src=\"https://spcl.github.io/dace/webclient/sdfg_utils.js\"></script>\n",
       "<script src=\"https://spcl.github.io/dace/webclient/overlay_manager.js\"></script>\n",
       "<script src=\"https://spcl.github.io/dace/webclient/renderer.js\"></script>\n",
       "<link href=\"https://spcl.github.io/dace/webclient/sdfv.css\" rel=\"stylesheet\">\n"
      ],
      "text/plain": [
       "<IPython.core.display.HTML object>"
      ]
     },
     "metadata": {},
     "output_type": "display_data"
    }
   ],
   "source": [
    "import dace\n",
    "import numpy as np\n",
    "from dace.transformation.interstate import GPUTransformSDFG\n",
    "from dace.frontend.common import op_repository as oprepo\n"
   ]
  },
  {
   "cell_type": "markdown",
   "id": "3ba318c6",
   "metadata": {},
   "source": [
    "# Examples"
   ]
  },
  {
   "cell_type": "code",
   "execution_count": null,
   "id": "4c72f568",
   "metadata": {},
   "outputs": [],
   "source": [
    "# 32x1 -> 1x1 using 1 block--1warp\n",
    "@dace.program\n",
    "def myprog(a: dace.float64[32]):\n",
    "    b = dace.ndarray([1,1], dtype=dace.float64)\n",
    "    for blockIdx_x in dace.map[0:1]:\n",
    "        for threadIdx_x in dace.map[0:32]:\n",
    "            with dace.tasklet:\n",
    "                ain << a[threadIdx_x]\n",
    "                aaout >> b[0](-1)\n",
    "                aout = ain\n",
    "                aout += __shfl_down_sync(0xffffffff, aout, 16)\n",
    "                aout += __shfl_down_sync(0xffffffff, aout, 8)\n",
    "                aout += __shfl_down_sync(0xffffffff, aout, 4)\n",
    "                aout += __shfl_down_sync(0xffffffff, aout, 2)\n",
    "                aout += __shfl_down_sync(0xffffffff, aout, 1) \n",
    "                if threadIdx_x == 0:\n",
    "                    aaout = aout\n",
    "                \n",
    "    return b\n"
   ]
  },
  {
   "cell_type": "code",
   "execution_count": null,
   "id": "a13edf8a",
   "metadata": {},
   "outputs": [],
   "source": [
    "# 16x32 -> 16x1 using 1 block--16warp\n",
    "@dace.program\n",
    "def myprog(a: dace.float64[16,32]):\n",
    "    b = dace.ndarray([16], dtype=dace.float64)\n",
    "    for blockIdx_x in dace.map[0:1]:\n",
    "        for threadIdx_y, threadIdx_x in dace.map[0:16,0:32]:\n",
    "            with dace.tasklet:                   \n",
    "                ain << a[threadIdx_y,threadIdx_x]\n",
    "                aaout >> b(-1)[threadIdx_y]\n",
    "                \n",
    "                aout = ain\n",
    "                aout += __shfl_down_sync(0xffffffff, aout, 16)\n",
    "                aout += __shfl_down_sync(0xffffffff, aout, 8)\n",
    "                aout += __shfl_down_sync(0xffffffff, aout, 4)\n",
    "                aout += __shfl_down_sync(0xffffffff, aout, 2)\n",
    "                aout += __shfl_down_sync(0xffffffff, aout, 1) \n",
    "                if threadIdx_x == 0:\n",
    "                    aaout = aout\n",
    "\n",
    "    return b"
   ]
  },
  {
   "cell_type": "code",
   "execution_count": null,
   "id": "816c373a",
   "metadata": {},
   "outputs": [],
   "source": [
    "# 32x16 -> 32x1 using 1 block--16warp\n",
    "@dace.program\n",
    "def myprog(a: dace.float64[32,16]):\n",
    "    b = dace.ndarray([32], dtype=dace.float64)\n",
    "    for blockIdx_x in dace.map[0:1]:\n",
    "        for threadIdx_y, threadIdx_x in dace.map[0:32,0:16]:\n",
    "            with dace.tasklet:                   \n",
    "                ain << a[threadIdx_y,threadIdx_x]\n",
    "                aaout >> b(-1)[threadIdx_y]\n",
    "                \n",
    "                aout = ain\n",
    "                aout += __shfl_down_sync(0xffffffff, aout, 8)\n",
    "                aout += __shfl_down_sync(0xffffffff, aout, 4)\n",
    "                aout += __shfl_down_sync(0xffffffff, aout, 2)\n",
    "                aout += __shfl_down_sync(0xffffffff, aout, 1) \n",
    "                if threadIdx_x == 0:\n",
    "                    aaout = aout\n",
    "\n",
    "    return b"
   ]
  },
  {
   "cell_type": "code",
   "execution_count": 6,
   "id": "5d1e8fba",
   "metadata": {},
   "outputs": [
    {
     "ename": "AssertionError",
     "evalue": "",
     "output_type": "error",
     "traceback": [
      "\u001b[0;31m---------------------------------------------------------------------------\u001b[0m",
      "\u001b[0;31mAssertionError\u001b[0m                            Traceback (most recent call last)",
      "\u001b[0;32m/tmp/ipykernel_24499/255539024.py\u001b[0m in \u001b[0;36m<module>\u001b[0;34m\u001b[0m\n\u001b[1;32m     25\u001b[0m \u001b[0ma\u001b[0m \u001b[0;34m=\u001b[0m \u001b[0mnp\u001b[0m\u001b[0;34m.\u001b[0m\u001b[0mrandom\u001b[0m\u001b[0;34m.\u001b[0m\u001b[0mrand\u001b[0m\u001b[0;34m(\u001b[0m\u001b[0;36m512\u001b[0m\u001b[0;34m,\u001b[0m\u001b[0;36m8\u001b[0m\u001b[0;34m)\u001b[0m\u001b[0;34m\u001b[0m\u001b[0;34m\u001b[0m\u001b[0m\n\u001b[1;32m     26\u001b[0m \u001b[0mb\u001b[0m \u001b[0;34m=\u001b[0m \u001b[0msdfg\u001b[0m\u001b[0;34m(\u001b[0m\u001b[0ma\u001b[0m\u001b[0;34m)\u001b[0m\u001b[0;34m\u001b[0m\u001b[0;34m\u001b[0m\u001b[0m\n\u001b[0;32m---> 27\u001b[0;31m \u001b[0;32massert\u001b[0m \u001b[0mnp\u001b[0m\u001b[0;34m.\u001b[0m\u001b[0mallclose\u001b[0m\u001b[0;34m(\u001b[0m\u001b[0mb\u001b[0m\u001b[0;34m,\u001b[0m \u001b[0mnp\u001b[0m\u001b[0;34m.\u001b[0m\u001b[0msum\u001b[0m\u001b[0;34m(\u001b[0m\u001b[0ma\u001b[0m\u001b[0;34m,\u001b[0m \u001b[0maxis\u001b[0m\u001b[0;34m=\u001b[0m\u001b[0;36m1\u001b[0m\u001b[0;34m)\u001b[0m\u001b[0;34m)\u001b[0m\u001b[0;34m\u001b[0m\u001b[0;34m\u001b[0m\u001b[0m\n\u001b[0m",
      "\u001b[0;31mAssertionError\u001b[0m: "
     ]
    }
   ],
   "source": [
    "# 128x8 -> 128x1 using 2 block--32warp\n",
    "@dace.program\n",
    "def myprog(a: dace.float64[512,8]):\n",
    "    b = dace.ndarray([512], dtype=dace.float64)\n",
    "    for blockIdx_x in dace.map[0:2]:\n",
    "        for threadIdx_y, threadIdx_x in dace.map[0:256,0:8]:\n",
    "            with dace.tasklet:                   \n",
    "                ain << a[blockIdx_x*256+threadIdx_y,threadIdx_x]\n",
    "                aaout >> b(-1)[blockIdx_x*256+threadIdx_y]\n",
    "                \n",
    "                aout = ain\n",
    "                aout += __shfl_down_sync(0xffffffff, aout, 4)\n",
    "                aout += __shfl_down_sync(0xffffffff, aout, 2)\n",
    "                aout += __shfl_down_sync(0xffffffff, aout, 1) \n",
    "                if threadIdx_x == 0:\n",
    "                    aaout = aout\n",
    "\n",
    "    return b\n",
    "\n",
    "# Transform to GPU, keep thread-block map\n",
    "sdfg = myprog.to_sdfg()\n",
    "sdfg.apply_transformations(GPUTransformSDFG, {'sequential_innermaps': False})\n",
    "# Test\n",
    "\n",
    "a = np.random.rand(512,8)\n",
    "b = sdfg(a)\n",
    "assert np.allclose(b, np.sum(a, axis=1))"
   ]
  },
  {
   "cell_type": "code",
   "execution_count": 8,
   "id": "5d7eb2c7",
   "metadata": {},
   "outputs": [
    {
     "data": {
      "text/plain": [
       "array([0., 0., 0., 0., 0., 0., 0., 0., 0., 0., 0., 0., 0., 0., 0., 0., 0.,\n",
       "       0., 0., 0., 0., 0., 0., 0., 0., 0., 0., 0., 0., 0., 0., 0., 0., 0.,\n",
       "       0., 0., 0., 0., 0., 0., 0., 0., 0., 0., 0., 0., 0., 0., 0., 0., 0.,\n",
       "       0., 0., 0., 0., 0., 0., 0., 0., 0., 0., 0., 0., 0., 0., 0., 0., 0.,\n",
       "       0., 0., 0., 0., 0., 0., 0., 0., 0., 0., 0., 0., 0., 0., 0., 0., 0.,\n",
       "       0., 0., 0., 0., 0., 0., 0., 0., 0., 0., 0., 0., 0., 0., 0., 0., 0.,\n",
       "       0., 0., 0., 0., 0., 0., 0., 0., 0., 0., 0., 0., 0., 0., 0., 0., 0.,\n",
       "       0., 0., 0., 0., 0., 0., 0., 0., 0., 0., 0., 0., 0., 0., 0., 0., 0.,\n",
       "       0., 0., 0., 0., 0., 0., 0., 0., 0., 0., 0., 0., 0., 0., 0., 0., 0.,\n",
       "       0., 0., 0., 0., 0., 0., 0., 0., 0., 0., 0., 0., 0., 0., 0., 0., 0.,\n",
       "       0., 0., 0., 0., 0., 0., 0., 0., 0., 0., 0., 0., 0., 0., 0., 0., 0.,\n",
       "       0., 0., 0., 0., 0., 0., 0., 0., 0., 0., 0., 0., 0., 0., 0., 0., 0.,\n",
       "       0., 0., 0., 0., 0., 0., 0., 0., 0., 0., 0., 0., 0., 0., 0., 0., 0.,\n",
       "       0., 0., 0., 0., 0., 0., 0., 0., 0., 0., 0., 0., 0., 0., 0., 0., 0.,\n",
       "       0., 0., 0., 0., 0., 0., 0., 0., 0., 0., 0., 0., 0., 0., 0., 0., 0.,\n",
       "       0., 0., 0., 0., 0., 0., 0., 0., 0., 0., 0., 0., 0., 0., 0., 0., 0.,\n",
       "       0., 0., 0., 0., 0., 0., 0., 0., 0., 0., 0., 0., 0., 0., 0., 0., 0.,\n",
       "       0., 0., 0., 0., 0., 0., 0., 0., 0., 0., 0., 0., 0., 0., 0., 0., 0.,\n",
       "       0., 0., 0., 0., 0., 0., 0., 0., 0., 0., 0., 0., 0., 0., 0., 0., 0.,\n",
       "       0., 0., 0., 0., 0., 0., 0., 0., 0., 0., 0., 0., 0., 0., 0., 0., 0.,\n",
       "       0., 0., 0., 0., 0., 0., 0., 0., 0., 0., 0., 0., 0., 0., 0., 0., 0.,\n",
       "       0., 0., 0., 0., 0., 0., 0., 0., 0., 0., 0., 0., 0., 0., 0., 0., 0.,\n",
       "       0., 0., 0., 0., 0., 0., 0., 0., 0., 0., 0., 0., 0., 0., 0., 0., 0.,\n",
       "       0., 0., 0., 0., 0., 0., 0., 0., 0., 0., 0., 0., 0., 0., 0., 0., 0.,\n",
       "       0., 0., 0., 0., 0., 0., 0., 0., 0., 0., 0., 0., 0., 0., 0., 0., 0.,\n",
       "       0., 0., 0., 0., 0., 0., 0., 0., 0., 0., 0., 0., 0., 0., 0., 0., 0.,\n",
       "       0., 0., 0., 0., 0., 0., 0., 0., 0., 0., 0., 0., 0., 0., 0., 0., 0.,\n",
       "       0., 0., 0., 0., 0., 0., 0., 0., 0., 0., 0., 0., 0., 0., 0., 0., 0.,\n",
       "       0., 0., 0., 0., 0., 0., 0., 0., 0., 0., 0., 0., 0., 0., 0., 0., 0.,\n",
       "       0., 0., 0., 0., 0., 0., 0., 0., 0., 0., 0., 0., 0., 0., 0., 0., 0.,\n",
       "       0., 0.])"
      ]
     },
     "execution_count": 8,
     "metadata": {},
     "output_type": "execute_result"
    }
   ],
   "source": [
    "b"
   ]
  },
  {
   "cell_type": "markdown",
   "id": "509fd9bd",
   "metadata": {},
   "source": [
    "# Kernels"
   ]
  },
  {
   "cell_type": "markdown",
   "id": "0c1cc991",
   "metadata": {},
   "source": [
    "## Nx16 reduce"
   ]
  },
  {
   "cell_type": "code",
   "execution_count": 17,
   "id": "09eae741",
   "metadata": {},
   "outputs": [],
   "source": [
    "H = dace.symbol('H')\n",
    "W = dace.symbol('W')\n",
    "\n",
    "@dace.program\n",
    "def myprog(inputs: dace.float64[H,W], gridDim_x: dace.int64, blockDim_y: dace.int64):\n",
    "    b = dace.ndarray([H], dtype=dace.float64)\n",
    "    for blockIdx_x in dace.map[0:gridDim_x]:\n",
    "        for threadIdx_y, threadIdx_x in dace.map[0:64,0:16]:\n",
    "            with dace.tasklet:                   \n",
    "                ain << inputs[blockIdx_x*64+threadIdx_y,threadIdx_x]\n",
    "                aaout >> b(-1)[blockIdx_x*64+threadIdx_y]\n",
    "                aout = ain\n",
    "                aout += __shfl_down_sync(0xffffffff, aout, 8)\n",
    "                aout += __shfl_down_sync(0xffffffff, aout, 4)\n",
    "                aout += __shfl_down_sync(0xffffffff, aout, 2)\n",
    "                aout += __shfl_down_sync(0xffffffff, aout, 1) \n",
    "                if threadIdx_x == 0:\n",
    "                    aaout = aout\n",
    "\n",
    "    return b\n",
    "\n",
    "# Transform to GPU, keep thread-block map\n",
    "sdfg = myprog.to_sdfg()\n",
    "sdfg.apply_transformations(GPUTransformSDFG, {'sequential_innermaps': False})\n",
    "# Test\n",
    "\n",
    "a = np.random.rand(512,16)\n",
    "b = sdfg(H=512,W=16,inputs=a,gridDim_x=8,blockDim_y=64)\n",
    "assert np.allclose(b, np.sum(a, axis=1))"
   ]
  },
  {
   "cell_type": "code",
   "execution_count": 14,
   "id": "a80a36d3",
   "metadata": {},
   "outputs": [
    {
     "data": {
      "text/plain": [
       "array([0., 0., 0., 0., 0., 0., 0., 0., 0., 0., 0., 0., 0., 0., 0., 0., 0.,\n",
       "       0., 0., 0., 0., 0., 0., 0., 0., 0., 0., 0., 0., 0., 0., 0., 0., 0.,\n",
       "       0., 0., 0., 0., 0., 0., 0., 0., 0., 0., 0., 0., 0., 0., 0., 0., 0.,\n",
       "       0., 0., 0., 0., 0., 0., 0., 0., 0., 0., 0., 0., 0., 0., 0., 0., 0.,\n",
       "       0., 0., 0., 0., 0., 0., 0., 0., 0., 0., 0., 0., 0., 0., 0., 0., 0.,\n",
       "       0., 0., 0., 0., 0., 0., 0., 0., 0., 0., 0., 0., 0., 0., 0., 0., 0.,\n",
       "       0., 0., 0., 0., 0., 0., 0., 0., 0., 0., 0., 0., 0., 0., 0., 0., 0.,\n",
       "       0., 0., 0., 0., 0., 0., 0., 0., 0., 0., 0., 0., 0., 0., 0., 0., 0.,\n",
       "       0., 0., 0., 0., 0., 0., 0., 0., 0., 0., 0., 0., 0., 0., 0., 0., 0.,\n",
       "       0., 0., 0., 0., 0., 0., 0., 0., 0., 0., 0., 0., 0., 0., 0., 0., 0.,\n",
       "       0., 0., 0., 0., 0., 0., 0., 0., 0., 0., 0., 0., 0., 0., 0., 0., 0.,\n",
       "       0., 0., 0., 0., 0., 0., 0., 0., 0., 0., 0., 0., 0., 0., 0., 0., 0.,\n",
       "       0., 0., 0., 0., 0., 0., 0., 0., 0., 0., 0., 0., 0., 0., 0., 0., 0.,\n",
       "       0., 0., 0., 0., 0., 0., 0., 0., 0., 0., 0., 0., 0., 0., 0., 0., 0.,\n",
       "       0., 0., 0., 0., 0., 0., 0., 0., 0., 0., 0., 0., 0., 0., 0., 0., 0.,\n",
       "       0., 0., 0., 0., 0., 0., 0., 0., 0., 0., 0., 0., 0., 0., 0., 0., 0.,\n",
       "       0., 0., 0., 0., 0., 0., 0., 0., 0., 0., 0., 0., 0., 0., 0., 0., 0.,\n",
       "       0., 0., 0., 0., 0., 0., 0., 0., 0., 0., 0., 0., 0., 0., 0., 0., 0.,\n",
       "       0., 0., 0., 0., 0., 0., 0., 0., 0., 0., 0., 0., 0., 0., 0., 0., 0.,\n",
       "       0., 0., 0., 0., 0., 0., 0., 0., 0., 0., 0., 0., 0., 0., 0., 0., 0.,\n",
       "       0., 0., 0., 0., 0., 0., 0., 0., 0., 0., 0., 0., 0., 0., 0., 0., 0.,\n",
       "       0., 0., 0., 0., 0., 0., 0., 0., 0., 0., 0., 0., 0., 0., 0., 0., 0.,\n",
       "       0., 0., 0., 0., 0., 0., 0., 0., 0., 0., 0., 0., 0., 0., 0., 0., 0.,\n",
       "       0., 0., 0., 0., 0., 0., 0., 0., 0., 0., 0., 0., 0., 0., 0., 0., 0.,\n",
       "       0., 0., 0., 0., 0., 0., 0., 0., 0., 0., 0., 0., 0., 0., 0., 0., 0.,\n",
       "       0., 0., 0., 0., 0., 0., 0., 0., 0., 0., 0., 0., 0., 0., 0., 0., 0.,\n",
       "       0., 0., 0., 0., 0., 0., 0., 0., 0., 0., 0., 0., 0., 0., 0., 0., 0.,\n",
       "       0., 0., 0., 0., 0., 0., 0., 0., 0., 0., 0., 0., 0., 0., 0., 0., 0.,\n",
       "       0., 0., 0., 0., 0., 0., 0., 0., 0., 0., 0., 0., 0., 0., 0., 0., 0.,\n",
       "       0., 0., 0., 0., 0., 0., 0., 0., 0., 0., 0., 0., 0., 0., 0., 0., 0.,\n",
       "       0., 0.])"
      ]
     },
     "execution_count": 14,
     "metadata": {},
     "output_type": "execute_result"
    }
   ],
   "source": [
    "b"
   ]
  },
  {
   "cell_type": "markdown",
   "id": "2a8d24ac",
   "metadata": {},
   "source": [
    "## Nx8 reduce"
   ]
  },
  {
   "cell_type": "code",
   "execution_count": 5,
   "id": "d9ef5d06",
   "metadata": {},
   "outputs": [
    {
     "ename": "AssertionError",
     "evalue": "",
     "output_type": "error",
     "traceback": [
      "\u001b[0;31m---------------------------------------------------------------------------\u001b[0m",
      "\u001b[0;31mAssertionError\u001b[0m                            Traceback (most recent call last)",
      "\u001b[0;32m/tmp/ipykernel_24499/459646058.py\u001b[0m in \u001b[0;36m<module>\u001b[0;34m\u001b[0m\n\u001b[1;32m     26\u001b[0m \u001b[0ma\u001b[0m \u001b[0;34m=\u001b[0m \u001b[0mnp\u001b[0m\u001b[0;34m.\u001b[0m\u001b[0mrandom\u001b[0m\u001b[0;34m.\u001b[0m\u001b[0mrand\u001b[0m\u001b[0;34m(\u001b[0m\u001b[0;36m512\u001b[0m\u001b[0;34m,\u001b[0m\u001b[0;36m8\u001b[0m\u001b[0;34m)\u001b[0m\u001b[0;34m\u001b[0m\u001b[0;34m\u001b[0m\u001b[0m\n\u001b[1;32m     27\u001b[0m \u001b[0mb\u001b[0m \u001b[0;34m=\u001b[0m \u001b[0msdfg\u001b[0m\u001b[0;34m(\u001b[0m\u001b[0mH\u001b[0m\u001b[0;34m=\u001b[0m\u001b[0;36m512\u001b[0m\u001b[0;34m,\u001b[0m\u001b[0mW\u001b[0m\u001b[0;34m=\u001b[0m\u001b[0;36m8\u001b[0m\u001b[0;34m,\u001b[0m\u001b[0minputs\u001b[0m\u001b[0;34m=\u001b[0m\u001b[0ma\u001b[0m\u001b[0;34m,\u001b[0m\u001b[0mgridDim_x\u001b[0m\u001b[0;34m=\u001b[0m\u001b[0;36m2\u001b[0m\u001b[0;34m,\u001b[0m\u001b[0mblockDim_y\u001b[0m\u001b[0;34m=\u001b[0m\u001b[0;36m256\u001b[0m\u001b[0;34m)\u001b[0m\u001b[0;34m\u001b[0m\u001b[0;34m\u001b[0m\u001b[0m\n\u001b[0;32m---> 28\u001b[0;31m \u001b[0;32massert\u001b[0m \u001b[0mnp\u001b[0m\u001b[0;34m.\u001b[0m\u001b[0mallclose\u001b[0m\u001b[0;34m(\u001b[0m\u001b[0mb\u001b[0m\u001b[0;34m,\u001b[0m \u001b[0mnp\u001b[0m\u001b[0;34m.\u001b[0m\u001b[0msum\u001b[0m\u001b[0;34m(\u001b[0m\u001b[0ma\u001b[0m\u001b[0;34m,\u001b[0m \u001b[0maxis\u001b[0m\u001b[0;34m=\u001b[0m\u001b[0;36m1\u001b[0m\u001b[0;34m)\u001b[0m\u001b[0;34m)\u001b[0m\u001b[0;34m\u001b[0m\u001b[0;34m\u001b[0m\u001b[0m\n\u001b[0m",
      "\u001b[0;31mAssertionError\u001b[0m: "
     ]
    }
   ],
   "source": [
    "H = dace.symbol('H')\n",
    "W = dace.symbol('W')\n",
    "\n",
    "@dace.program\n",
    "def myprog(inputs: dace.float64[H,W], gridDim_x: dace.int64, blockDim_y: dace.int64):\n",
    "    b = dace.ndarray([H], dtype=dace.float64)\n",
    "    for blockIdx_x in dace.map[0:2]:\n",
    "        for threadIdx_y, threadIdx_x in dace.map[0:256,0:8]:\n",
    "            with dace.tasklet:                   \n",
    "                ain << inputs[blockIdx_x*256+threadIdx_y,threadIdx_x]\n",
    "                aaout >> b(-1)[blockIdx_x*256+threadIdx_y]\n",
    "                aout = ain\n",
    "                aout += __shfl_down_sync(0xffffffff, aout, 4)\n",
    "                aout += __shfl_down_sync(0xffffffff, aout, 2)\n",
    "                aout += __shfl_down_sync(0xffffffff, aout, 1) \n",
    "                if threadIdx_x == 0:\n",
    "                    aaout = aout\n",
    "\n",
    "    return b\n",
    "\n",
    "# Transform to GPU, keep thread-block map\n",
    "sdfg = myprog.to_sdfg()\n",
    "sdfg.apply_transformations(GPUTransformSDFG, {'sequential_innermaps': False})\n",
    "# Test\n",
    "\n",
    "a = np.random.rand(512,8)\n",
    "b = sdfg(H=512,W=8,inputs=a,gridDim_x=2,blockDim_y=256)\n",
    "assert np.allclose(b, np.sum(a, axis=1))"
   ]
  },
  {
   "cell_type": "code",
   "execution_count": 3,
   "id": "4f9e43cc",
   "metadata": {},
   "outputs": [
    {
     "data": {
      "text/plain": [
       "array([0., 0., 0., 0., 0., 0., 0., 0., 0., 0., 0., 0., 0., 0., 0., 0., 0.,\n",
       "       0., 0., 0., 0., 0., 0., 0., 0., 0., 0., 0., 0., 0., 0., 0., 0., 0.,\n",
       "       0., 0., 0., 0., 0., 0., 0., 0., 0., 0., 0., 0., 0., 0., 0., 0., 0.,\n",
       "       0., 0., 0., 0., 0., 0., 0., 0., 0., 0., 0., 0., 0., 0., 0., 0., 0.,\n",
       "       0., 0., 0., 0., 0., 0., 0., 0., 0., 0., 0., 0., 0., 0., 0., 0., 0.,\n",
       "       0., 0., 0., 0., 0., 0., 0., 0., 0., 0., 0., 0., 0., 0., 0., 0., 0.,\n",
       "       0., 0., 0., 0., 0., 0., 0., 0., 0., 0., 0., 0., 0., 0., 0., 0., 0.,\n",
       "       0., 0., 0., 0., 0., 0., 0., 0., 0., 0., 0., 0., 0., 0., 0., 0., 0.,\n",
       "       0., 0., 0., 0., 0., 0., 0., 0., 0., 0., 0., 0., 0., 0., 0., 0., 0.,\n",
       "       0., 0., 0., 0., 0., 0., 0., 0., 0., 0., 0., 0., 0., 0., 0., 0., 0.,\n",
       "       0., 0., 0., 0., 0., 0., 0., 0., 0., 0., 0., 0., 0., 0., 0., 0., 0.,\n",
       "       0., 0., 0., 0., 0., 0., 0., 0., 0., 0., 0., 0., 0., 0., 0., 0., 0.,\n",
       "       0., 0., 0., 0., 0., 0., 0., 0., 0., 0., 0., 0., 0., 0., 0., 0., 0.,\n",
       "       0., 0., 0., 0., 0., 0., 0., 0., 0., 0., 0., 0., 0., 0., 0., 0., 0.,\n",
       "       0., 0., 0., 0., 0., 0., 0., 0., 0., 0., 0., 0., 0., 0., 0., 0., 0.,\n",
       "       0., 0., 0., 0., 0., 0., 0., 0., 0., 0., 0., 0., 0., 0., 0., 0., 0.,\n",
       "       0., 0., 0., 0., 0., 0., 0., 0., 0., 0., 0., 0., 0., 0., 0., 0., 0.,\n",
       "       0., 0., 0., 0., 0., 0., 0., 0., 0., 0., 0., 0., 0., 0., 0., 0., 0.,\n",
       "       0., 0., 0., 0., 0., 0., 0., 0., 0., 0., 0., 0., 0., 0., 0., 0., 0.,\n",
       "       0., 0., 0., 0., 0., 0., 0., 0., 0., 0., 0., 0., 0., 0., 0., 0., 0.,\n",
       "       0., 0., 0., 0., 0., 0., 0., 0., 0., 0., 0., 0., 0., 0., 0., 0., 0.,\n",
       "       0., 0., 0., 0., 0., 0., 0., 0., 0., 0., 0., 0., 0., 0., 0., 0., 0.,\n",
       "       0., 0., 0., 0., 0., 0., 0., 0., 0., 0., 0., 0., 0., 0., 0., 0., 0.,\n",
       "       0., 0., 0., 0., 0., 0., 0., 0., 0., 0., 0., 0., 0., 0., 0., 0., 0.,\n",
       "       0., 0., 0., 0., 0., 0., 0., 0., 0., 0., 0., 0., 0., 0., 0., 0., 0.,\n",
       "       0., 0., 0., 0., 0., 0., 0., 0., 0., 0., 0., 0., 0., 0., 0., 0., 0.,\n",
       "       0., 0., 0., 0., 0., 0., 0., 0., 0., 0., 0., 0., 0., 0., 0., 0., 0.,\n",
       "       0., 0., 0., 0., 0., 0., 0., 0., 0., 0., 0., 0., 0., 0., 0., 0., 0.,\n",
       "       0., 0., 0., 0., 0., 0., 0., 0., 0., 0., 0., 0., 0., 0., 0., 0., 0.,\n",
       "       0., 0., 0., 0., 0., 0., 0., 0., 0., 0., 0., 0., 0., 0., 0., 0., 0.,\n",
       "       0., 0.])"
      ]
     },
     "execution_count": 3,
     "metadata": {},
     "output_type": "execute_result"
    }
   ],
   "source": [
    "b"
   ]
  },
  {
   "cell_type": "markdown",
   "id": "8c52a817",
   "metadata": {},
   "source": [
    "## Nx4 reduce"
   ]
  },
  {
   "cell_type": "code",
   "execution_count": null,
   "id": "6fe438a8",
   "metadata": {},
   "outputs": [],
   "source": [
    "H = dace.symbol('H')\n",
    "W = dace.symbol('W')\n",
    "\n",
    "@dace.program\n",
    "def myprog(inputs: dace.float64[H,W], gridDim_x: dace.int64, blockDim_y: dace.int64):\n",
    "    b = dace.ndarray([H], dtype=dace.float64)\n",
    "    for blockIdx_x in dace.map[0:gridDim_x]:\n",
    "        for threadIdx_y, threadIdx_x in dace.map[0:64,0:4]:\n",
    "            with dace.tasklet:                   \n",
    "                ain << inputs[blockIdx_x*64+threadIdx_y,threadIdx_x]\n",
    "                aaout >> b(-1)[blockIdx_x*64+threadIdx_y]\n",
    "                aout = ain\n",
    "                aout += __shfl_down_sync(0xffffffff, aout, 2)\n",
    "                aout += __shfl_down_sync(0xffffffff, aout, 1) \n",
    "                if threadIdx_x == 0:\n",
    "                    aaout = aout\n",
    "\n",
    "    return b\n",
    "\n",
    "# Transform to GPU, keep thread-block map\n",
    "sdfg = myprog.to_sdfg()\n",
    "sdfg.apply_transformations(GPUTransformSDFG, {'sequential_innermaps': False})\n",
    "# Test\n",
    "\n",
    "a = np.random.rand(256,4)\n",
    "b = sdfg(H=256,W=4,inputs=a,gridDim_x=4,blockDim_y=64)\n",
    "assert np.allclose(b, np.sum(a, axis=1))"
   ]
  },
  {
   "cell_type": "markdown",
   "id": "20c7aa2f",
   "metadata": {},
   "source": [
    "## Nx2 reduce"
   ]
  },
  {
   "cell_type": "code",
   "execution_count": null,
   "id": "455a2a97",
   "metadata": {},
   "outputs": [],
   "source": [
    "H = dace.symbol('H')\n",
    "W = dace.symbol('W')\n",
    "\n",
    "@dace.program\n",
    "def myprog(inputs: dace.float64[H,W], gridDim_x: dace.int64, blockDim_y: dace.int64):\n",
    "    b = dace.ndarray([H], dtype=dace.float64)\n",
    "    for blockIdx_x in dace.map[0:gridDim_x]:\n",
    "        for threadIdx_y, threadIdx_x in dace.map[0:128,0:2]:\n",
    "            with dace.tasklet:                   \n",
    "                ain << inputs[blockIdx_x*128+threadIdx_y,threadIdx_x]\n",
    "                aaout >> b(-1)[blockIdx_x*128+threadIdx_y]\n",
    "                aout = ain\n",
    "                aout += __shfl_down_sync(0xffffffff, aout, 1) \n",
    "                if threadIdx_x == 0:\n",
    "                    aaout = aout\n",
    "\n",
    "    return b\n",
    "\n",
    "# Transform to GPU, keep thread-block map\n",
    "sdfg = myprog.to_sdfg()\n",
    "sdfg.apply_transformations(GPUTransformSDFG, {'sequential_innermaps': False})\n",
    "# Test\n",
    "\n",
    "a = np.random.rand(512,2)\n",
    "b = sdfg(H=512,W=2,inputs=a,gridDim_x=4,blockDim_y=128)\n",
    "assert np.allclose(b, np.sum(a, axis=1))"
   ]
  },
  {
   "cell_type": "code",
   "execution_count": null,
   "id": "47ecad83",
   "metadata": {},
   "outputs": [],
   "source": []
  },
  {
   "cell_type": "code",
   "execution_count": null,
   "id": "6e43b8be",
   "metadata": {},
   "outputs": [],
   "source": [
    "# Transform to GPU, keep thread-block map\n",
    "sdfg = myprog.to_sdfg()\n",
    "sdfg.apply_transformations(GPUTransformSDFG, {'sequential_innermaps': False})\n",
    "\n"
   ]
  },
  {
   "cell_type": "code",
   "execution_count": null,
   "id": "58ad4325",
   "metadata": {},
   "outputs": [],
   "source": [
    "# Test\n",
    "a = np.random.rand(128,8)\n",
    "b = sdfg(a)\n",
    "assert np.allclose(b, np.sum(a, axis=1))"
   ]
  },
  {
   "cell_type": "code",
   "execution_count": null,
   "id": "6da8735d",
   "metadata": {},
   "outputs": [],
   "source": [
    "b"
   ]
  },
  {
   "cell_type": "code",
   "execution_count": null,
   "id": "b719e22f",
   "metadata": {},
   "outputs": [],
   "source": [
    "np.sum(a, axis=1)"
   ]
  },
  {
   "cell_type": "code",
   "execution_count": null,
   "id": "f0215a5e",
   "metadata": {},
   "outputs": [],
   "source": []
  },
  {
   "cell_type": "code",
   "execution_count": null,
   "id": "a1d16d62",
   "metadata": {},
   "outputs": [],
   "source": [
    "\n",
    "H = dace.symbol('H')\n",
    "W = dace.symbol('W')\n",
    "\n",
    "@dace.program\n",
    "def myprog(inputs: dace.float64[H,W], gridDim_x: dace.int64, blockDim_y: dace.int64):\n",
    "    b = dace.ndarray([H], dtype=dace.float64)\n",
    "    for blockIdx_x in dace.map[0:gridDim_x]:\n",
    "        for threadIdx_y, threadIdx_x in dace.map[0:256,0:8]:\n",
    "            with dace.tasklet:                   \n",
    "                ain << inputs[blockIdx_x*256+threadIdx_y,threadIdx_x]\n",
    "                aaout >> b(-1)[blockIdx_x*256+threadIdx_y]\n",
    "                aout = ain\n",
    "#                 aout += __shfl_down_sync(0xffffffff, aout, 8)\n",
    "                aout += __shfl_down_sync(0xffffffff, aout, 4)\n",
    "                aout += __shfl_down_sync(0xffffffff, aout, 2) \n",
    "                aout += __shfl_down_sync(0xffffffff, aout, 1) \n",
    "                if threadIdx_x == 0:\n",
    "                    aaout = aout\n",
    "\n",
    "    return b\n",
    "\n",
    "# Transform to GPU, keep thread-block map\n",
    "sdfg = myprog.to_sdfg()\n",
    "sdfg.apply_transformations(GPUTransformSDFG, {'sequential_innermaps': False})\n",
    "# Test\n",
    "\n",
    "hh=512\n",
    "ww=8\n",
    "tt=int(hh/256)\n",
    "\n",
    "a = np.random.rand(hh,ww)\n",
    "b = sdfg(H=hh,W=ww,inputs=a,gridDim_x=tt,blockDim_y=256)\n",
    "assert np.allclose(b, np.sum(a, axis=1))"
   ]
  },
  {
   "cell_type": "code",
   "execution_count": null,
   "id": "41263760",
   "metadata": {},
   "outputs": [],
   "source": [
    "np.sum(a, axis=1)"
   ]
  },
  {
   "cell_type": "code",
   "execution_count": null,
   "id": "ddea6b57",
   "metadata": {},
   "outputs": [],
   "source": [
    "b"
   ]
  },
  {
   "cell_type": "code",
   "execution_count": null,
   "id": "b25dc0a8",
   "metadata": {},
   "outputs": [],
   "source": []
  }
 ],
 "metadata": {
  "kernelspec": {
   "display_name": "Python 3",
   "language": "python",
   "name": "python3"
  },
  "language_info": {
   "codemirror_mode": {
    "name": "ipython",
    "version": 3
   },
   "file_extension": ".py",
   "mimetype": "text/x-python",
   "name": "python",
   "nbconvert_exporter": "python",
   "pygments_lexer": "ipython3",
   "version": "3.8.8"
  }
 },
 "nbformat": 4,
 "nbformat_minor": 5
}
