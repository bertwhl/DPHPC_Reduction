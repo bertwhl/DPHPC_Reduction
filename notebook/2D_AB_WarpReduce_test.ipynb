{
 "cells": [
  {
   "cell_type": "code",
   "execution_count": 1,
   "id": "e63fc81e",
   "metadata": {},
   "outputs": [
    {
     "data": {
      "text/html": [
       "<link href=\"https://fonts.googleapis.com/icon?family=Material+Icons\" rel=\"stylesheet\">\n",
       "        <script>\n",
       "        require.config({\n",
       "            paths: {\n",
       "                \"math\": \"https://spcl.github.io/dace/webclient/external_lib/math.min\"\n",
       "            },\n",
       "            waitSeconds: 40\n",
       "          });\n",
       "        require( [\"math\"], x => window.math = x);\n",
       "        </script><script src=\"https://spcl.github.io/dace/webclient/renderer_dir/dagre.js\"></script>\n",
       "<script src=\"https://spcl.github.io/dace/webclient/renderer_dir/global_vars.js\"></script>\n",
       "<script src=\"https://spcl.github.io/dace/webclient/context_menu.js\"></script>\n",
       "<script src=\"https://spcl.github.io/dace/webclient/renderer_elements.js\"></script>\n",
       "<script src=\"https://spcl.github.io/dace/webclient/sdfg_utils.js\"></script>\n",
       "<script src=\"https://spcl.github.io/dace/webclient/overlay_manager.js\"></script>\n",
       "<script src=\"https://spcl.github.io/dace/webclient/renderer.js\"></script>\n",
       "<link href=\"https://spcl.github.io/dace/webclient/sdfv.css\" rel=\"stylesheet\">\n"
      ],
      "text/plain": [
       "<IPython.core.display.HTML object>"
      ]
     },
     "metadata": {},
     "output_type": "display_data"
    }
   ],
   "source": [
    "import numpy as np\n",
    "import dace\n",
    "from dace.frontend.common import op_repository as oprepo\n",
    "from dace.transformation.interstate import GPUTransformSDFG"
   ]
  },
  {
   "cell_type": "code",
   "execution_count": 2,
   "id": "3cf653bb",
   "metadata": {},
   "outputs": [],
   "source": [
    "@oprepo.replaces('warpReduce_sum')\n",
    "def warpReduce_sum(pv, sdfg: dace.SDFG, state: dace.SDFGState, x: str) -> str:\n",
    "    desc = sdfg.arrays[x]\n",
    "    newname, _ = sdfg.add_temp_transient(desc.shape, desc.dtype, desc.storage)\n",
    "    ctype = desc.dtype.ctype\n",
    "\n",
    "    t = state.add_tasklet(\n",
    "       'warpReduce', {'__a'}, {'__out'}, f'''\n",
    "       __out = dace::warpReduce<dace::ReductionType::Sum, {ctype}>::reduce(__a);\n",
    "    ''', dace.Language.CPP)\n",
    "    r = state.add_read(x)\n",
    "    w = state.add_write(newname)\n",
    "    state.add_edge(r, None, t, '__a', dace.Memlet(data=x))\n",
    "    state.add_edge(t, '__out', w, None, dace.Memlet(data=newname))\n",
    "    return newname\n",
    "\n"
   ]
  },
  {
   "cell_type": "code",
   "execution_count": 7,
   "id": "9267b7fe",
   "metadata": {},
   "outputs": [],
   "source": [
    "@oprepo.replaces('sync_threads')\n",
    "def sync_threads(pv, sdfg: dace.SDFG, state: dace.SDFGState):\n",
    "    state.add_tasklet(name='syncronize_threads',\n",
    "                      inputs={},\n",
    "                      outputs={},\n",
    "                      code='__syncthreads();', \n",
    "                      language=dace.Language.CPP)"
   ]
  },
  {
   "cell_type": "code",
   "execution_count": null,
   "id": "f5a084cc",
   "metadata": {},
   "outputs": [],
   "source": [
    "# 32x32 -> 32x1 using 1 block--32warps/block\n",
    "@dace.program\n",
    "def myprog(a: dace.float64[32, 32]):\n",
    "    b = np.empty([32], dtype=dace.float64)\n",
    "    for i in dace.map[0:1]:\n",
    "        for j,k in dace.map[0:32,0:32]:\n",
    "            reduced = warpReduce_sum(a[j, k])\n",
    "            b[j] = reduced\n",
    "    return b"
   ]
  },
  {
   "cell_type": "code",
   "execution_count": null,
   "id": "081de8ee",
   "metadata": {},
   "outputs": [],
   "source": [
    "# 64x32 -> 64x1 using 2 block--32warps/block (1 warp/row)\n",
    "@dace.program\n",
    "def myprog(a: dace.float64[64, 32]):\n",
    "    b = np.empty([64], dtype=dace.float64)\n",
    "    for i in dace.map[0:2]:\n",
    "        for j,k in dace.map[0:32,0:32]:\n",
    "            reduced = warpReduce_sum(a[i*32+j, k])\n",
    "            b[i*32+j] = reduced\n",
    "    return b"
   ]
  },
  {
   "cell_type": "code",
   "execution_count": 8,
   "id": "21db0e6d",
   "metadata": {},
   "outputs": [],
   "source": [
    "#32x64 -> 32x1 using 1 block--32warps/block (1 thread first add 2 values)\n",
    "@dace.program\n",
    "def myprog(a: dace.float64[32, 64]):\n",
    "    tmp = np.empty([32,32], dtype=dace.float64)\n",
    "    b = np.empty([32], dtype=dace.float64)\n",
    "    for i in dace.map[0:1]:\n",
    "        for j,k in dace.map[0:32,0:32]:\n",
    "            tmp[j,k] = a[j,k]+a[j,k+32]\n",
    "            sync_threads()\n",
    "            reduced = warpReduce_sum(tmp[j, k])\n",
    "            b[j] = reduced\n",
    "    return b"
   ]
  },
  {
   "cell_type": "code",
   "execution_count": 62,
   "id": "3edf23f1",
   "metadata": {},
   "outputs": [],
   "source": [
    "#16x64 -> 16x1 using 1 block--32warps/block (2 warps/row)\n",
    "@dace.program\n",
    "def myprog(a: dace.float64[16, 64]):\n",
    "    b = np.empty([16], dtype=dace.float64)\n",
    "    tmp = np.empty([16,2], dtype=dace.float64)\n",
    "    for i in dace.map[0:1]:\n",
    "        for j,k in dace.map[0:32,0:32]:\n",
    "            if j%2 == 0:\n",
    "                tmp[j//2,0] = warpReduce_sum(a[j//2, k])\n",
    "            else:\n",
    "                tmp[j//2,1] = warpReduce_sum(a[j//2, k+32])\n",
    "            sync_threads()\n",
    "            if k==0 and j%2 == 0:\n",
    "                b[j//2] = tmp[j//2,0] + tmp[j//2,1]\n",
    "    return b"
   ]
  },
  {
   "cell_type": "code",
   "execution_count": 67,
   "id": "f8a2a934",
   "metadata": {},
   "outputs": [],
   "source": [
    "#32x64 -> 32x1 using 2 block--32warps/block (2 warps/row)\n",
    "@dace.program\n",
    "def myprog(a: dace.float64[32, 64]):\n",
    "    b = np.empty([32], dtype=dace.float64)\n",
    "    tmp = np.empty([32,2], dtype=dace.float64)\n",
    "    for i in dace.map[0:2]:\n",
    "        for j,k in dace.map[0:32,0:32]:\n",
    "            if j%2 == 0:\n",
    "                tmp[i*16+j//2,0] = warpReduce_sum(a[i*16+j//2, k])\n",
    "            else:\n",
    "                tmp[i*16+j//2,1] = warpReduce_sum(a[i*16+j//2, k+32])\n",
    "            sync_threads()\n",
    "            if k == 0 and j%2 == 0:\n",
    "                b[i*16+j//2] = tmp[i*16+j//2,0] + tmp[i*16+j//2,1]\n",
    "    return b"
   ]
  },
  {
   "cell_type": "code",
   "execution_count": 75,
   "id": "b7187e12",
   "metadata": {},
   "outputs": [],
   "source": [
    "#8x2048 -> 8x1 using 8 block--32warps/block (1 block/row)\n",
    "@dace.program\n",
    "def myprog(a: dace.float64[8, 2048]):\n",
    "    b = np.zeros([8], dtype=dace.float64)\n",
    "    tmp = np.empty([8,1024], dtype=dace.float64)\n",
    "    tmp1 = np.empty([8,32], dtype=dace.float64)\n",
    "    for i in dace.map[0:8]:\n",
    "        for j,k in dace.map[0:32,0:32]:\n",
    "            tmp[i,32*j+k] = a[i,32*j+k]+a[i,32*j+k+1024]\n",
    "            sync_threads()\n",
    "            tmp1[i,j] = warpReduce_sum(tmp[i, 32*j+k])\n",
    "            sync_threads()\n",
    "            if k==0:\n",
    "                b[i] += tmp1[i,j]\n",
    "    return b"
   ]
  },
  {
   "cell_type": "code",
   "execution_count": 95,
   "id": "8a7ab29d",
   "metadata": {},
   "outputs": [],
   "source": [
    "#8x2048 -> 8x1 using 16 block--32warps/block (2 block/row)\n",
    "@dace.program\n",
    "def myprog(a: dace.float64[8, 2048]):\n",
    "    b = np.zeros([8], dtype=dace.float64)\n",
    "    tmp = np.empty([8,64], dtype=dace.float64)\n",
    "    for i in dace.map[0:16]:\n",
    "        for j,k in dace.map[0:32,0:32]:\n",
    "            if i % 2 == 0:    \n",
    "                tmp[i//2,j] = warpReduce_sum(a[i//2, 32*j+k])\n",
    "            else:\n",
    "                tmp[i//2,j+32] = warpReduce_sum(a[i//2, 32*j+k+1024])\n",
    "            sync_threads()\n",
    "            if k==0 and i%2 == 0:\n",
    "                b[i//2] += tmp[i//2,j]\n",
    "                sync_threads()\n",
    "                b[i//2] += tmp[i//2,j+32]\n",
    "    return b"
   ]
  },
  {
   "cell_type": "code",
   "execution_count": 96,
   "id": "f970725d",
   "metadata": {},
   "outputs": [
    {
     "data": {
      "text/plain": [
       "1"
      ]
     },
     "execution_count": 96,
     "metadata": {},
     "output_type": "execute_result"
    }
   ],
   "source": [
    "# Transform to GPU, keep thread-block map\n",
    "sdfg = myprog.to_sdfg()\n",
    "# sdfg.optimize()\n",
    "sdfg.apply_transformations(GPUTransformSDFG, {'sequential_innermaps': False})"
   ]
  },
  {
   "cell_type": "code",
   "execution_count": 103,
   "id": "86025912",
   "metadata": {},
   "outputs": [],
   "source": [
    "# Test\n",
    "a = np.random.rand(8, 2048)\n",
    "b = sdfg(a)\n",
    "assert np.allclose(b, np.sum(a, axis=1))"
   ]
  },
  {
   "cell_type": "code",
   "execution_count": 98,
   "id": "8ab75993",
   "metadata": {},
   "outputs": [
    {
     "data": {
      "text/plain": [
       "array([1052.6558795 , 1030.41451885, 1030.71169467, 1018.44169287,\n",
       "       1018.77723684, 1039.3605196 , 1029.17974785, 1027.02621788])"
      ]
     },
     "execution_count": 98,
     "metadata": {},
     "output_type": "execute_result"
    }
   ],
   "source": [
    "np.sum(a, axis=1)"
   ]
  },
  {
   "cell_type": "code",
   "execution_count": 99,
   "id": "4bb99bbd",
   "metadata": {},
   "outputs": [
    {
     "data": {
      "text/plain": [
       "array([1052.6558795 , 1030.41451885, 1030.71169467, 1018.44169287,\n",
       "       1018.77723684, 1039.3605196 , 1029.17974785, 1027.02621788])"
      ]
     },
     "execution_count": 99,
     "metadata": {},
     "output_type": "execute_result"
    }
   ],
   "source": [
    "b"
   ]
  },
  {
   "cell_type": "code",
   "execution_count": null,
   "id": "383442b5",
   "metadata": {},
   "outputs": [],
   "source": []
  }
 ],
 "metadata": {
  "kernelspec": {
   "display_name": "Python 3 (ipykernel)",
   "language": "python",
   "name": "python3"
  },
  "language_info": {
   "codemirror_mode": {
    "name": "ipython",
    "version": 3
   },
   "file_extension": ".py",
   "mimetype": "text/x-python",
   "name": "python",
   "nbconvert_exporter": "python",
   "pygments_lexer": "ipython3",
   "version": "3.7.11"
  }
 },
 "nbformat": 4,
 "nbformat_minor": 5
}
